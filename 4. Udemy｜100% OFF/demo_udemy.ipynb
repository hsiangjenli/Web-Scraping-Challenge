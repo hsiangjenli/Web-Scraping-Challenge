{
 "cells": [
  {
   "cell_type": "code",
   "execution_count": 1,
   "id": "243513f4-8a96-4e33-aef1-e35f6ef63ff2",
   "metadata": {},
   "outputs": [],
   "source": [
    "from udemy import UDEMY"
   ]
  },
  {
   "cell_type": "code",
   "execution_count": 2,
   "id": "eaea2f5c-e803-41df-8aca-58467098cd9b",
   "metadata": {},
   "outputs": [],
   "source": [
    "udemy = UDEMY(category = ['development'])"
   ]
  },
  {
   "cell_type": "code",
   "execution_count": 3,
   "id": "79002b85-6a0d-4655-ac5c-f8196cda8ddc",
   "metadata": {},
   "outputs": [
    {
     "data": {
      "text/plain": [
       "['development']"
      ]
     },
     "execution_count": 3,
     "metadata": {},
     "output_type": "execute_result"
    }
   ],
   "source": [
    "udemy.category"
   ]
  },
  {
   "cell_type": "code",
   "execution_count": null,
   "id": "c8eb74ea-0c3c-41c1-8f69-1cb7c3d379fa",
   "metadata": {},
   "outputs": [],
   "source": []
  },
  {
   "cell_type": "code",
   "execution_count": 4,
   "id": "2e85cc20-0ec1-4ae1-b29c-a43d2f65908a",
   "metadata": {},
   "outputs": [
    {
     "data": {
      "text/plain": [
       "['https://www.udemyfreebies.com/out/learn-sql-using-mysql-database',\n",
       " 'https://www.udemyfreebies.com/out/self-taught-programmer',\n",
       " 'https://www.udemyfreebies.com/out/learn-complete-devops-with-python-docker-kubernetes-git',\n",
       " 'https://www.udemyfreebies.com/out/helm-the-kubernetes-package-manager-hands-on-course',\n",
       " 'https://www.udemyfreebies.com/out/neural-networks-for-autoencoders-and-recommender-systems',\n",
       " 'https://www.udemyfreebies.com/out/python-for-bioinformatics-self-learning-course',\n",
       " 'https://www.udemyfreebies.com/out/modern-react-developer',\n",
       " 'https://www.udemyfreebies.com/out/javascript-for-beginners-the-complete-introduction-to-js',\n",
       " 'https://www.udemyfreebies.com/out/basics-data-science-with-numpy-pandas-and-matplotlib',\n",
       " 'https://www.udemyfreebies.com/out/build-fast-laravel-applications-using-blueprint',\n",
       " 'https://www.udemyfreebies.com/out/wordpress-mastery-for-beginners-fastest-way-to-learn-wp',\n",
       " 'https://www.udemyfreebies.com/out/the-r-programming-for-everyone-a-z-comprehensive-bootcamp',\n",
       " 'https://www.udemyfreebies.com/out/javascript-practicals-crash-course',\n",
       " 'https://www.udemyfreebies.com/out/ue5-steam']"
      ]
     },
     "execution_count": 4,
     "metadata": {},
     "output_type": "execute_result"
    }
   ],
   "source": [
    "udemy.crawler()"
   ]
  }
 ],
 "metadata": {
  "kernelspec": {
   "display_name": "Python 3",
   "language": "python",
   "name": "python3"
  },
  "language_info": {
   "codemirror_mode": {
    "name": "ipython",
    "version": 3
   },
   "file_extension": ".py",
   "mimetype": "text/x-python",
   "name": "python",
   "nbconvert_exporter": "python",
   "pygments_lexer": "ipython3",
   "version": "3.8.8"
  }
 },
 "nbformat": 4,
 "nbformat_minor": 5
}
