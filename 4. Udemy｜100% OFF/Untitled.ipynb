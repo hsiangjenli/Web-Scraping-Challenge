{
 "cells": [
  {
   "cell_type": "code",
   "execution_count": 1,
   "id": "243513f4-8a96-4e33-aef1-e35f6ef63ff2",
   "metadata": {},
   "outputs": [],
   "source": [
    "from udemy import udemy"
   ]
  },
  {
   "cell_type": "code",
   "execution_count": null,
   "id": "eaea2f5c-e803-41df-8aca-58467098cd9b",
   "metadata": {},
   "outputs": [
    {
     "name": "stdout",
     "output_type": "stream",
     "text": [
      "['2021-08-25T05:45:27+00:00', '2021-08-25T05:44:43+00:00', '2021-08-25T05:44:08+00:00', '2021-08-25T05:16:10+00:00', '2021-08-25T05:15:14+00:00', '2021-08-25T04:56:48+00:00', '2021-08-24T07:16:03+00:00', '2021-08-24T06:45:40+00:00', '2021-08-24T06:39:08+00:00', '2021-08-24T06:09:10+00:00']\n"
     ]
    }
   ],
   "source": [
    "udemy.crawler()"
   ]
  },
  {
   "cell_type": "code",
   "execution_count": null,
   "id": "79002b85-6a0d-4655-ac5c-f8196cda8ddc",
   "metadata": {},
   "outputs": [],
   "source": []
  }
 ],
 "metadata": {
  "kernelspec": {
   "display_name": "Python 3",
   "language": "python",
   "name": "python3"
  },
  "language_info": {
   "codemirror_mode": {
    "name": "ipython",
    "version": 3
   },
   "file_extension": ".py",
   "mimetype": "text/x-python",
   "name": "python",
   "nbconvert_exporter": "python",
   "pygments_lexer": "ipython3",
   "version": "3.8.8"
  }
 },
 "nbformat": 4,
 "nbformat_minor": 5
}
