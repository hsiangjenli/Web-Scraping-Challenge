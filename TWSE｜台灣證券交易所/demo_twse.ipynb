{
 "cells": [
  {
   "cell_type": "markdown",
   "id": "efb82ca5",
   "metadata": {},
   "source": [
    "## **Source Data**"
   ]
  },
  {
   "cell_type": "code",
   "execution_count": 1,
   "id": "46a61093",
   "metadata": {},
   "outputs": [],
   "source": [
    "from twse import TWSE_URL"
   ]
  },
  {
   "cell_type": "code",
   "execution_count": 2,
   "id": "4b0dcc12",
   "metadata": {},
   "outputs": [
    {
     "name": "stdout",
     "output_type": "stream",
     "text": [
      "https://www.twse.com.tw/exchangeReport/STOCK_DAY?response=json&date=20210812&stockNo=2330\n"
     ]
    }
   ],
   "source": [
    "print(TWSE_URL.demo.daily_trading)"
   ]
  },
  {
   "cell_type": "code",
   "execution_count": 3,
   "id": "1aba55e8",
   "metadata": {},
   "outputs": [
    {
     "name": "stdout",
     "output_type": "stream",
     "text": [
      "https://www.twse.com.tw/exchangeReport/MI_INDEX?response=json&date=20210812&type=ALL\n"
     ]
    }
   ],
   "source": [
    "print(TWSE_URL.demo.daily_quotes)"
   ]
  },
  {
   "cell_type": "code",
   "execution_count": 4,
   "id": "638bcb93",
   "metadata": {},
   "outputs": [
    {
     "name": "stdout",
     "output_type": "stream",
     "text": [
      "https://www.twse.com.tw/\n"
     ]
    }
   ],
   "source": [
    "print(TWSE_URL.main_path)"
   ]
  },
  {
   "cell_type": "markdown",
   "id": "baa37acf",
   "metadata": {},
   "source": [
    "## **Import TWSE**"
   ]
  },
  {
   "cell_type": "code",
   "execution_count": 5,
   "id": "62b12619",
   "metadata": {},
   "outputs": [
    {
     "data": {
      "text/plain": [
       "{'抓取每日收盤行情(全部)': 'crawler_all()', '抓取個股當月收盤行情': 'crawler_stocks()'}"
      ]
     },
     "execution_count": 5,
     "metadata": {},
     "output_type": "execute_result"
    }
   ],
   "source": [
    "from twse import TWSE\n",
    "TWSE.cat"
   ]
  },
  {
   "cell_type": "code",
   "execution_count": 6,
   "id": "7598db73",
   "metadata": {},
   "outputs": [],
   "source": [
    "from twse import TWSE\n",
    "\n",
    "period = ('2021-08-12', '2021-08-14')"
   ]
  },
  {
   "cell_type": "markdown",
   "id": "fb65742d",
   "metadata": {},
   "source": [
    "### **抓取$\\color{#BA2121}{每日}$收盤行情**"
   ]
  },
  {
   "cell_type": "markdown",
   "id": "4b0385a1",
   "metadata": {},
   "source": [
    "#### **STEP 1 設定相關資訊**\n",
    "```python\n",
    "period = ('2021-08-12', '2021-08-14')\n",
    "\n",
    "daily_quotes = TWSE(period = period)\n",
    "\n",
    "daily_quotes = TWSE(period = period, \n",
    "                    daily_quotes_num = [9] # 指定回傳特定資料表, list\n",
    "                   )\n",
    "```\n",
    "#### **STEP 2 開始抓取資料**\n",
    "```python\n",
    "dict_dfs = daily_quotes.crawler_all()\n",
    "```"
   ]
  },
  {
   "cell_type": "code",
   "execution_count": 7,
   "id": "eac24f7f",
   "metadata": {},
   "outputs": [
    {
     "ename": "TypeError",
     "evalue": "crawler() takes 1 positional argument but 2 were given",
     "output_type": "error",
     "traceback": [
      "\u001b[1;31m---------------------------------------------------------------------------\u001b[0m",
      "\u001b[1;31mTypeError\u001b[0m                                 Traceback (most recent call last)",
      "\u001b[1;32m<ipython-input-7-d6729df1c3e6>\u001b[0m in \u001b[0;36m<module>\u001b[1;34m\u001b[0m\n\u001b[0;32m      1\u001b[0m \u001b[0mdaily_quotes\u001b[0m \u001b[1;33m=\u001b[0m \u001b[0mTWSE\u001b[0m\u001b[1;33m(\u001b[0m\u001b[0mperiod\u001b[0m \u001b[1;33m=\u001b[0m \u001b[0mperiod\u001b[0m\u001b[1;33m)\u001b[0m\u001b[1;33m\u001b[0m\u001b[1;33m\u001b[0m\u001b[0m\n\u001b[1;32m----> 2\u001b[1;33m \u001b[0mdict_dfs\u001b[0m \u001b[1;33m=\u001b[0m \u001b[0mdaily_quotes\u001b[0m\u001b[1;33m.\u001b[0m\u001b[0mcrawler_all\u001b[0m\u001b[1;33m(\u001b[0m\u001b[1;33m)\u001b[0m\u001b[1;33m\u001b[0m\u001b[1;33m\u001b[0m\u001b[0m\n\u001b[0m",
      "\u001b[1;32mD:\\Python\\Web-Scraping-Challenge\\TWSE｜台灣證券交易所\\twse.py\u001b[0m in \u001b[0;36mcrawler_all\u001b[1;34m(self)\u001b[0m\n\u001b[0;32m     58\u001b[0m                         \u001b[1;32mtry\u001b[0m\u001b[1;33m:\u001b[0m\u001b[1;33m\u001b[0m\u001b[1;33m\u001b[0m\u001b[0m\n\u001b[0;32m     59\u001b[0m                                 \u001b[0murl\u001b[0m \u001b[1;33m=\u001b[0m \u001b[0mTWSE_URL\u001b[0m\u001b[1;33m.\u001b[0m\u001b[0mdaily_quotes\u001b[0m\u001b[1;33m.\u001b[0m\u001b[0mformat\u001b[0m\u001b[1;33m(\u001b[0m\u001b[0mdate\u001b[0m \u001b[1;33m=\u001b[0m \u001b[0mdate\u001b[0m\u001b[1;33m)\u001b[0m\u001b[1;33m\u001b[0m\u001b[1;33m\u001b[0m\u001b[0m\n\u001b[1;32m---> 60\u001b[1;33m                                 \u001b[0mdata\u001b[0m \u001b[1;33m=\u001b[0m \u001b[0mself\u001b[0m\u001b[1;33m.\u001b[0m\u001b[0mcrawler\u001b[0m\u001b[1;33m(\u001b[0m\u001b[0murl\u001b[0m\u001b[1;33m)\u001b[0m\u001b[1;33m\u001b[0m\u001b[1;33m\u001b[0m\u001b[0m\n\u001b[0m\u001b[0;32m     61\u001b[0m                                 \u001b[0mdict_dfs\u001b[0m \u001b[1;33m=\u001b[0m \u001b[1;33m{\u001b[0m\u001b[1;33m}\u001b[0m\u001b[1;33m\u001b[0m\u001b[1;33m\u001b[0m\u001b[0m\n\u001b[0;32m     62\u001b[0m \u001b[1;33m\u001b[0m\u001b[0m\n",
      "\u001b[1;31mTypeError\u001b[0m: crawler() takes 1 positional argument but 2 were given"
     ]
    }
   ],
   "source": [
    "daily_quotes = TWSE(period = period)\n",
    "dict_dfs = daily_quotes.crawler_all()"
   ]
  },
  {
   "cell_type": "markdown",
   "id": "4a570170",
   "metadata": {},
   "source": [
    "#### **STEP 3 回傳資料型態**\n",
    "```python\n",
    "type(dict_dfs)\n",
    ">>> dict\n",
    "\n",
    "dict_dfs.keys()\n",
    ">>> dict_keys(['2021-08-12', '2021-08-13'])\n",
    "\n",
    "'''\n",
    "2021-08-14為假日，自動跳過。\n",
    "'''\n",
    "\n",
    "for key in dict_dfs['2021-08-12']:\n",
    "    print(key)\n",
    "\n",
    ">>> 1 # 110年08月12日 價格指數(臺灣證券交易所)\n",
    ">>> 2 # 價格指數(跨市場)\n",
    ">>> 3 # 價格指數(臺灣指數公司)\n",
    ">>> 4 # 報酬指數(臺灣證券交易所)\n",
    ">>> 5 # 報酬指數(跨市場)\n",
    ">>> 6 # 報酬指數(臺灣指數公司)\n",
    ">>> 7 # 110年08月12日 大盤統計資訊\n",
    ">>> 8 # 漲跌證券數合計\n",
    ">>> 9 # 110年08月12日每日收盤行情(全部)\n",
    "```"
   ]
  },
  {
   "cell_type": "markdown",
   "id": "8e166383",
   "metadata": {},
   "source": [
    "```markdown\n",
    "dict_dfs\n",
    "   |\n",
    "   |__ 2021-08-12\n",
    "   |  |__110年08月12日 價格指數(臺灣證券交易所)\n",
    "   |  |__價格指數(跨市場)\n",
    "   |  |__價格指數(臺灣指數公司)\n",
    "   |  |__報酬指數(臺灣證券交易所)\n",
    "   |  |__報酬指數(跨市場)\n",
    "   |  |__報酬指數(臺灣指數公司)\n",
    "   |  |__110年08月12日 大盤統計資訊\n",
    "   |  |__漲跌證券數合計\n",
    "   |  |__110年08月12日每日收盤行情(全部)\n",
    "   |\n",
    "   |__2021-08-13\n",
    "      |__110年08月13日 價格指數(臺灣證券交易所)\n",
    "      |__價格指數(跨市場)\n",
    "      |__價格指數(臺灣指數公司)\n",
    "      |__報酬指數(臺灣證券交易所)\n",
    "      |__報酬指數(跨市場)\n",
    "      |__報酬指數(臺灣指數公司)\n",
    "      |__110年08月13日 大盤統計資訊\n",
    "      |__漲跌證券數合計\n",
    "      |__110年08月13日每日收盤行情(全部)\n",
    "```"
   ]
  },
  {
   "cell_type": "code",
   "execution_count": null,
   "id": "990fbbe0",
   "metadata": {},
   "outputs": [],
   "source": [
    "dict_dfs['2021-08-12'][1].head(3)"
   ]
  },
  {
   "cell_type": "code",
   "execution_count": null,
   "id": "106f6a14",
   "metadata": {},
   "outputs": [],
   "source": [
    "daily_quotes = TWSE(period = period, daily_quotes_num = [9])"
   ]
  },
  {
   "cell_type": "code",
   "execution_count": null,
   "id": "009ee244",
   "metadata": {},
   "outputs": [],
   "source": [
    "dict_dfs = daily_quotes.crawler_all()"
   ]
  },
  {
   "cell_type": "code",
   "execution_count": null,
   "id": "3adc5663",
   "metadata": {},
   "outputs": [],
   "source": [
    "dict_dfs['2021-08-13'][9].head(3)"
   ]
  },
  {
   "cell_type": "markdown",
   "id": "ae32136a",
   "metadata": {},
   "source": [
    "### **抓取個股當月收盤行情**"
   ]
  },
  {
   "cell_type": "markdown",
   "id": "82250268",
   "metadata": {},
   "source": [
    "#### **STEP 1 設定相關資訊**"
   ]
  },
  {
   "cell_type": "markdown",
   "id": "ca7214bb",
   "metadata": {},
   "source": [
    "```python\n",
    "stock_codes = ['2330','1234', '2357', '2317']\n",
    "period = ('2021-01-1', '2021-04-1')\n",
    "\n",
    "'''Period Fomat\n",
    "\n",
    "   (%Y-%m-%1) 每個月的1號開始及結束，避免重複抓取\n",
    "\n",
    "'''\n",
    "\n",
    "```"
   ]
  },
  {
   "cell_type": "code",
   "execution_count": null,
   "id": "b6c40ea2",
   "metadata": {},
   "outputs": [],
   "source": [
    "from twse import TWSE\n",
    "\n",
    "stock_codes = ['2330', '1234']\n",
    "period = ('2021-04-1', '2021-08-1')"
   ]
  },
  {
   "cell_type": "markdown",
   "id": "f407de4a",
   "metadata": {},
   "source": [
    "#### **STEP 2 開始抓取資料**"
   ]
  },
  {
   "cell_type": "markdown",
   "id": "0c154250",
   "metadata": {},
   "source": [
    "1. **方法 1 全部回傳**\n",
    "\n",
    "```python\n",
    "twse = TWSE(period = period, stock_codes = stock_codes)\n",
    "dict_dfs = twse.crawler_stocks()\n",
    "dict_dfs[stock_codes[0]]\n",
    "```\n",
    "\n",
    "\n",
    "2. **方法 2 批次回傳**\n",
    "\n",
    "```python\n",
    "for stock_code in stock_codes:\n",
    "    twse = TWSE(period = period, stock_codes = [stock_code])\n",
    "    df = twse.crawler_stocks()\n",
    "    \n",
    "df[stock_code]\n",
    "```"
   ]
  },
  {
   "cell_type": "code",
   "execution_count": null,
   "id": "cd4d24de",
   "metadata": {},
   "outputs": [],
   "source": [
    "twse = TWSE(period = period, stock_codes = stock_codes)"
   ]
  },
  {
   "cell_type": "code",
   "execution_count": null,
   "id": "08fac327",
   "metadata": {},
   "outputs": [],
   "source": [
    "dict_dfs = twse.crawler_stocks()"
   ]
  },
  {
   "cell_type": "markdown",
   "id": "54124c6e",
   "metadata": {},
   "source": [
    "#### **STEP 3 回傳資料型態**"
   ]
  },
  {
   "cell_type": "markdown",
   "id": "9a147ec7",
   "metadata": {},
   "source": [
    "```python\n",
    "type(dict_dfs)\n",
    ">>> dict\n",
    "\n",
    "dict_dfs.keys()\n",
    ">>> dict_keys(['2330', '1234'])\n",
    "```"
   ]
  },
  {
   "cell_type": "code",
   "execution_count": null,
   "id": "b299de16",
   "metadata": {},
   "outputs": [],
   "source": [
    "dict_dfs.keys()"
   ]
  },
  {
   "cell_type": "markdown",
   "id": "16e7f6cc",
   "metadata": {},
   "source": [
    "|    | 日期                |    成交股數 |    成交金額 |   開盤價 |   最高價 |   最低價 |   收盤價 |   漲跌價差 |   成交筆數 |   股票代碼 |\n",
    "|---:|:--------------------|------------:|------------:|---------:|---------:|---------:|---------:|-----------:|-----------:|-----------:|\n",
    "|  0 | 2021-01-04 00:00:00 | 3.949e+07   | 2.11276e+10 |      530 |      540 |      528 |      536 |          6 |      33316 |       2330 |\n",
    "|  1 | 2021-01-05 00:00:00 | 3.48394e+07 | 1.87618e+10 |      536 |      542 |      535 |      542 |          6 |      28512 |       2330 |\n",
    "|  2 | 2021-01-06 00:00:00 | 5.56144e+07 | 3.05728e+10 |      555 |      555 |      541 |      549 |          7 |      55462 |       2330 |"
   ]
  },
  {
   "cell_type": "code",
   "execution_count": null,
   "id": "54376833",
   "metadata": {},
   "outputs": [],
   "source": [
    "dict_dfs['2330'].head(3)"
   ]
  },
  {
   "cell_type": "markdown",
   "id": "d3d9cc84",
   "metadata": {},
   "source": [
    "## **SQLite**"
   ]
  },
  {
   "cell_type": "markdown",
   "id": "9ab32560",
   "metadata": {},
   "source": [
    "### **Table Structure**\n",
    "```python\n",
    "def create_table():\n",
    "    tb = '''\n",
    "            股票代碼 int,\n",
    "            日期 date, \n",
    "            成交股數 float, \n",
    "            成交金額 float, \n",
    "            開盤價 float, \n",
    "            最高價 float, \n",
    "            最低價 float, \n",
    "            收盤價 float, \n",
    "            漲跌價差 float, \n",
    "            成交筆數 float    \n",
    "    '''\n",
    "    return tb\n",
    "```"
   ]
  },
  {
   "cell_type": "code",
   "execution_count": null,
   "id": "e50851ee",
   "metadata": {},
   "outputs": [],
   "source": [
    "def create_table():\n",
    "    tb = '''\n",
    "            股票代碼 varchar,\n",
    "            日期 date, \n",
    "            成交股數 float, \n",
    "            成交金額 float, \n",
    "            開盤價 float, \n",
    "            最高價 float, \n",
    "            最低價 float, \n",
    "            收盤價 float, \n",
    "            漲跌價差 float, \n",
    "            成交筆數 float    \n",
    "    '''\n",
    "    return tb"
   ]
  },
  {
   "cell_type": "markdown",
   "id": "433e5323",
   "metadata": {},
   "source": [
    "### **DB connection**"
   ]
  },
  {
   "cell_type": "code",
   "execution_count": null,
   "id": "4752b87c",
   "metadata": {},
   "outputs": [],
   "source": [
    "import sqlite3\n",
    "\n",
    "conn = sqlite3.connect('TWSE.db')\n",
    "c = conn.cursor() \n",
    "try:\n",
    "    c.execute(f'''CREATE TABLE TWSE({create_table()})''')\n",
    "except:\n",
    "    pass"
   ]
  },
  {
   "cell_type": "code",
   "execution_count": null,
   "id": "553d9f18",
   "metadata": {},
   "outputs": [],
   "source": [
    "from twse import TWSE\n",
    "\n",
    "period = ('2021-03-1', '2021-08-1')"
   ]
  },
  {
   "cell_type": "markdown",
   "id": "41d03cad",
   "metadata": {},
   "source": [
    "#### **存入多筆資料**"
   ]
  },
  {
   "cell_type": "code",
   "execution_count": null,
   "id": "e5ca6e89",
   "metadata": {},
   "outputs": [],
   "source": [
    "stock_codes = ['2330','1234', '2357', '2317']\n",
    "\n",
    "for stock_code in stock_codes:\n",
    "    twse = TWSE(period = period, stock_codes = [stock_code])\n",
    "    df = twse.crawler_stocks()\n",
    "    df[stock_code].to_sql('TWSE', conn, if_exists='append', index = False)\n",
    "conn.close()"
   ]
  },
  {
   "cell_type": "code",
   "execution_count": null,
   "id": "258ada0c",
   "metadata": {},
   "outputs": [],
   "source": [
    "import sqlite3 as sql\n",
    "import pandas as pd\n",
    "con = sql.connect(\"TWSE.db\")\n",
    "df = pd.read_sql(f\"select 股票代碼, 開盤價, 最低價, 最高價, 收盤價, 日期 from TWSE where 股票代碼 = '2330' and 日期 between '2021-08-01' and '2021-08-17'\", con)"
   ]
  },
  {
   "cell_type": "code",
   "execution_count": null,
   "id": "d8d93af9",
   "metadata": {},
   "outputs": [],
   "source": [
    "df"
   ]
  },
  {
   "cell_type": "code",
   "execution_count": null,
   "id": "b1cfcee6",
   "metadata": {},
   "outputs": [],
   "source": [
    "conn.close"
   ]
  },
  {
   "cell_type": "code",
   "execution_count": null,
   "id": "c7d5fed7",
   "metadata": {},
   "outputs": [],
   "source": []
  }
 ],
 "metadata": {
  "kernelspec": {
   "display_name": "Python 3 (Spyder)",
   "language": "python3",
   "name": "python3"
  },
  "language_info": {
   "codemirror_mode": {
    "name": "ipython",
    "version": 3
   },
   "file_extension": ".py",
   "mimetype": "text/x-python",
   "name": "python",
   "nbconvert_exporter": "python",
   "pygments_lexer": "ipython3",
   "version": "3.8.8"
  },
  "toc-autonumbering": false,
  "toc-showmarkdowntxt": true
 },
 "nbformat": 4,
 "nbformat_minor": 5
}
