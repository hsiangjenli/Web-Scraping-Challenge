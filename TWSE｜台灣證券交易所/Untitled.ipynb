{
 "cells": [
  {
   "cell_type": "code",
   "execution_count": 93,
   "id": "5fab4041",
   "metadata": {},
   "outputs": [],
   "source": [
    "from TWSE.twserevise import TWSE"
   ]
  },
  {
   "cell_type": "code",
   "execution_count": 94,
   "id": "2fd4c562",
   "metadata": {},
   "outputs": [],
   "source": [
    "period = ('2021-08-11', '2021-08-13')"
   ]
  },
  {
   "cell_type": "code",
   "execution_count": 95,
   "id": "7708b7b7",
   "metadata": {},
   "outputs": [],
   "source": [
    "twse = TWSE(period=period)"
   ]
  },
  {
   "cell_type": "code",
   "execution_count": 87,
   "id": "fb0afa5d",
   "metadata": {
    "collapsed": true,
    "jupyter": {
     "outputs_hidden": true
    }
   },
   "outputs": [
    {
     "name": "stdout",
     "output_type": "stream",
     "text": [
      "         證券代號     證券名稱       成交股數    成交筆數  ...  最後揭示買量  最後揭示賣價 最後揭示賣量    本益比\n",
      "0        50.0   元大台灣50  3867154.0  7131.0  ...    21.0  137.25   70.0   0.00\n",
      "1        51.0  元大中型100    77833.0   138.0  ...     4.0    57.1   17.0   0.00\n",
      "2        52.0     富邦科技   736191.0   309.0  ...     5.0   124.4    1.0   0.00\n",
      "3        53.0     元大電子    14500.0    14.0  ...     1.0   66.45    1.0   0.00\n",
      "4        54.0   元大台商50     3010.0     4.0  ...    26.0    31.9    8.0   0.00\n",
      "...       ...      ...        ...     ...  ...     ...     ...    ...    ...\n",
      "22719  9944.0       新麗   209583.0   100.0  ...     5.0    21.6    1.0  29.19\n",
      "22720  9945.0      潤泰新  6743695.0  3955.0  ...    69.0    65.3   65.0   8.01\n",
      "22721  9946.0     三發地產   465364.0   121.0  ...    15.0   15.95   17.0  99.38\n",
      "22722  9955.0       佳龍   174901.0   239.0  ...     7.0   17.25    3.0   0.00\n",
      "22723  9958.0      世紀鋼  2539008.0  1696.0  ...    74.0   115.0   12.0  24.78\n",
      "\n",
      "[22724 rows x 16 columns]\n",
      "         證券代號     證券名稱       成交股數    成交筆數  ...  最後揭示買量  最後揭示賣價 最後揭示賣量    本益比\n",
      "0        50.0   元大台灣50  2376688.0  4386.0  ...    19.0  136.95   60.0   0.00\n",
      "1        51.0  元大中型100    22685.0    35.0  ...     3.0    57.2   30.0   0.00\n",
      "2        52.0     富邦科技   581821.0   133.0  ...     1.0   124.1    1.0   0.00\n",
      "3        53.0     元大電子     4087.0     9.0  ...    31.0    66.2    2.0   0.00\n",
      "4        54.0   元大台商50     3000.0     2.0  ...    24.0   31.86    8.0   0.00\n",
      "...       ...      ...        ...     ...  ...     ...     ...    ...    ...\n",
      "22853  9944.0       新麗   170868.0    98.0  ...    15.0    21.4    1.0  28.72\n",
      "22854  9945.0      潤泰新  5766952.0  3391.0  ...    68.0    67.0  291.0   6.91\n",
      "22855  9946.0     三發地產   589932.0   180.0  ...     1.0   16.15   14.0  73.18\n",
      "22856  9955.0       佳龍    79717.0   135.0  ...     6.0    17.4    3.0   0.00\n",
      "22857  9958.0      世紀鋼  1810412.0  1355.0  ...    36.0   115.5   21.0  24.89\n",
      "\n",
      "[22858 rows x 16 columns]\n",
      "         證券代號     證券名稱       成交股數     成交筆數  ...  最後揭示買量 最後揭示賣價 最後揭示賣量    本益比\n",
      "0        50.0   元大台灣50  7816273.0  16810.0  ...     3.0  135.7   52.0   0.00\n",
      "1        51.0  元大中型100    94265.0    113.0  ...    36.0  56.65   10.0   0.00\n",
      "2        52.0     富邦科技   771387.0    527.0  ...    24.0  122.7   10.0   0.00\n",
      "3        53.0     元大電子    16061.0     20.0  ...     1.0   65.8    1.0   0.00\n",
      "4        54.0   元大台商50     5295.0      7.0  ...     8.0  31.46    8.0   0.00\n",
      "...       ...      ...        ...      ...  ...     ...    ...    ...    ...\n",
      "22815  9944.0       新麗   186349.0     97.0  ...     1.0   21.5   31.0  23.57\n",
      "22816  9945.0      潤泰新  9327425.0   5573.0  ...    23.0   67.8   28.0   7.00\n",
      "22817  9946.0     三發地產   612720.0    153.0  ...    21.0  16.15    6.0  73.18\n",
      "22818  9955.0       佳龍   113845.0    194.0  ...     6.0  17.25    9.0   0.00\n",
      "22819  9958.0      世紀鋼  2061564.0   1265.0  ...    42.0  116.0   20.0  25.11\n",
      "\n",
      "[22820 rows x 16 columns]\n"
     ]
    },
    {
     "ename": "KeyError",
     "evalue": "'data9'",
     "output_type": "error",
     "traceback": [
      "Traceback \u001b[1;36m(most recent call last)\u001b[0m:\n",
      "  File \u001b[0;32m\"<ipython-input-87-083c160514db>\"\u001b[0m, line \u001b[0;32m1\u001b[0m, in \u001b[0;35m<module>\u001b[0m\n    for df in twse.crawlerDailyQuotes():\n",
      "  File \u001b[0;32m\"D:\\Python\\Web-Scraping-Challenge\\TWSE｜台灣證券交易所\\twserevise.py\"\u001b[0m, line \u001b[0;32m79\u001b[0m, in \u001b[0;35mcrawlerDailyQuotes\u001b[0m\n    df = Clean.to_df_num(self.raw, self.num)\n",
      "\u001b[1;36m  File \u001b[1;32m\"D:\\Python\\Web-Scraping-Challenge\\TWSE｜台灣證券交易所\\Clean.py\"\u001b[1;36m, line \u001b[1;32m16\u001b[1;36m, in \u001b[1;35mto_df_num\u001b[1;36m\u001b[0m\n\u001b[1;33m    df = pd.DataFrame(data[f'data{num}'])\u001b[0m\n",
      "\u001b[1;31mKeyError\u001b[0m\u001b[1;31m:\u001b[0m 'data9'\n"
     ]
    }
   ],
   "source": [
    "for df in twse.crawlerDailyQuotes():\n",
    "    print(df)"
   ]
  },
  {
   "cell_type": "code",
   "execution_count": 88,
   "id": "396e97c3",
   "metadata": {},
   "outputs": [
    {
     "data": {
      "text/plain": [
       "{'stat': '很抱歉，沒有符合條件的資料!',\n",
       " 'groups9': [{'start': 0, 'span': 11, 'title': '(元,股)'},\n",
       "  {'start': 11, 'span': 5, 'title': '(元,交易單位)'}]}"
      ]
     },
     "execution_count": 88,
     "metadata": {},
     "output_type": "execute_result"
    }
   ],
   "source": [
    "twse.raw"
   ]
  },
  {
   "cell_type": "code",
   "execution_count": null,
   "id": "69507ac4",
   "metadata": {},
   "outputs": [],
   "source": []
  }
 ],
 "metadata": {
  "kernelspec": {
   "display_name": "Python 3 (Spyder)",
   "language": "python3",
   "name": "python3"
  },
  "language_info": {
   "codemirror_mode": {
    "name": "ipython",
    "version": 3
   },
   "file_extension": ".py",
   "mimetype": "text/x-python",
   "name": "python",
   "nbconvert_exporter": "python",
   "pygments_lexer": "ipython3",
   "version": "3.8.8"
  }
 },
 "nbformat": 4,
 "nbformat_minor": 5
}
