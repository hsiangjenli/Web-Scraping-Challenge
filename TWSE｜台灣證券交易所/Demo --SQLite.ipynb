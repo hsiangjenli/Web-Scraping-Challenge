{
 "cells": [
  {
   "cell_type": "code",
   "execution_count": 6,
   "id": "792cd40c",
   "metadata": {},
   "outputs": [],
   "source": [
    "import sqlite3\n",
    "\n",
    "table = '發行量加權股價指數'\n",
    "\n",
    "createTable = '''\n",
    "    `日期` date NOT NULL,\n",
    "    `成交股數` bigint(20) NOT NULL,\n",
    "    `成交金額` bigint(20) NOT NULL,\n",
    "    `成交筆數` bigint(20) NOT NULL,\n",
    "    `發行量加權股價指數` DECIMAL(7, 2) NOT NULL,\n",
    "    `漲跌點數` float NOT NULL\n",
    "    '''\n",
    "\n",
    "conn = sqlite3.connect('TWSE.db')\n",
    "c = conn.cursor() \n",
    "try:\n",
    "    c.execute(f'''CREATE TABLE TWWI ({createTable})''')\n",
    "except:\n",
    "    pass"
   ]
  },
  {
   "cell_type": "code",
   "execution_count": 3,
   "id": "3c176220",
   "metadata": {},
   "outputs": [],
   "source": [
    "from TWSE.transformDate import TDate\n",
    "from TWSE.twserevise import TWSE\n",
    "import datetime\n",
    "\n",
    "import numpy as np\n",
    "\n",
    "now = TDate.date.toStringwithDash(datetime.datetime.now())\n",
    "#period = ('1990-01-04', now)\n",
    "#period = (rDate, now)\n",
    "period = ('2016-10-10', now)\n",
    "twse = TWSE(period=period)\n",
    "\n",
    "for df in twse.crawlerTaiwanWeightedIndex():\n",
    "    df.to_sql(table, con = conn, if_exists = 'append', index=False)"
   ]
  },
  {
   "cell_type": "code",
   "execution_count": 12,
   "id": "02c457ac",
   "metadata": {},
   "outputs": [],
   "source": [
    "import pandas as pd\n",
    "\n",
    "con = sqlite3.connect(\"TWSE.db\")\n",
    "df = pd.read_sql(f\"SELECT `日期`, `成交股數`,`成交金額`,`成交筆數`,`發行量加權股價指數`,`漲跌點數` FROM {table}\", conn)"
   ]
  },
  {
   "cell_type": "code",
   "execution_count": 3,
   "id": "a070c029",
   "metadata": {},
   "outputs": [],
   "source": [
    "import pandas as pd\n",
    "con = sqlite3.connect(\"TWSE.db\")\n",
    "df = pd.read_sql(f\"SELECT `發行量加權股價指數` FROM {table}\", conn)"
   ]
  },
  {
   "cell_type": "code",
   "execution_count": 14,
   "id": "9d5c3079",
   "metadata": {},
   "outputs": [],
   "source": [
    "df.to_csv('rawTWWI.csv', index=False)"
   ]
  }
 ],
 "metadata": {
  "kernelspec": {
   "display_name": "Python 3 (Spyder)",
   "language": "python3",
   "name": "python3"
  },
  "language_info": {
   "codemirror_mode": {
    "name": "ipython",
    "version": 3
   },
   "file_extension": ".py",
   "mimetype": "text/x-python",
   "name": "python",
   "nbconvert_exporter": "python",
   "pygments_lexer": "ipython3",
   "version": "3.8.8"
  }
 },
 "nbformat": 4,
 "nbformat_minor": 5
}
