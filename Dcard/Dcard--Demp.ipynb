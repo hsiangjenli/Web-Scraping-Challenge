{
 "cells": [
  {
   "cell_type": "code",
   "execution_count": null,
   "id": "02517a6a-3588-4733-8ca0-ada0f0c32e4d",
   "metadata": {},
   "outputs": [],
   "source": [
    "from dcard.crawler import Dcard\n",
    "from dcard.crawler import Type"
   ]
  },
  {
   "cell_type": "code",
   "execution_count": null,
   "id": "8a9b9b83",
   "metadata": {},
   "outputs": [],
   "source": [
    "dcard = Dcard(ctype=Type.posts)\n",
    "for post in dcard.crawler():\n",
    "    print(post)"
   ]
  },
  {
   "cell_type": "code",
   "execution_count": null,
   "id": "f7a5fcda",
   "metadata": {},
   "outputs": [],
   "source": [
    "dcard = Dcard(ctype=Type.id, id='238214800')\n",
    "dcard_id = dcard.crawler()\n",
    "dcard_id"
   ]
  },
  {
   "cell_type": "code",
   "execution_count": null,
   "id": "b61109db",
   "metadata": {},
   "outputs": [],
   "source": [
    "dcard = Dcard(ctype=Type.id, id='238214800', comment=True)\n",
    "dcard_id_comment = dcard.crawler()\n",
    "dcard_id_comment"
   ]
  }
 ],
 "metadata": {
  "kernelspec": {
   "display_name": "Python 3 (ipykernel)",
   "language": "python",
   "name": "python3"
  },
  "language_info": {
   "codemirror_mode": {
    "name": "ipython",
    "version": 3
   },
   "file_extension": ".py",
   "mimetype": "text/x-python",
   "name": "python",
   "nbconvert_exporter": "python",
   "pygments_lexer": "ipython3",
   "version": "3.8.8"
  }
 },
 "nbformat": 4,
 "nbformat_minor": 5
}
