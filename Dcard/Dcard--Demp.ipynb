{
 "cells": [
  {
   "cell_type": "code",
   "execution_count": 1,
   "id": "02517a6a-3588-4733-8ca0-ada0f0c32e4d",
   "metadata": {},
   "outputs": [],
   "source": [
    "from dcard.crawler import Dcard\n",
    "from dcard.crawler import Type"
   ]
  },
  {
   "cell_type": "code",
   "execution_count": 3,
   "id": "8a9b9b83",
   "metadata": {},
   "outputs": [
    {
     "name": "stdout",
     "output_type": "stream",
     "text": [
      "{'id': 238220069, 'title': '全歐盟贊成踢出俄羅斯SWIFT', 'excerpt': 'Swift是什麼？Swift是什麼？Swift的全名為「環球銀行金融電信協會」（The Society for Worldwide Interbank Financial Telecommunicat', 'createdAt': '2022-02-26T12:35:21.745Z', 'tags': [], 'topics': [], 'forumName': '閒聊'}\n",
      "{'id': 238220066, 'title': '：「等你結婚就知道了！」', 'excerpt': '有一天 心血來潮上網找民宿，發現了開的民宿，PS. 是六七年前朋友介紹我們認識，我們沒有下文後不久 他就結婚了，婚後開了兩家民宿，這之間彼此就像個網友 按按讚 留留言，沒有什麼私下聊天，查到後 傳訊息', 'createdAt': '2022-02-26T12:35:11.473Z', 'tags': ['HIDE_THUMBNAIL'], 'topics': ['心情'], 'forumName': '心情'}\n",
      "{'id': 238220065, 'title': '想要有自己的房間', 'excerpt': '如題，從小到大我都跟媽媽一起睡同一間，我也不知道為什麼不過自然而然就變這樣了，我們家算大家庭所以房間分配不可能每個人都有一間，妹妹還在讀書從小也就會吵著想要自己的房間，我是蠻黏媽媽的沒錯但今年都21了', 'createdAt': '2022-02-26T12:35:05.164Z', 'tags': ['HIDE_THUMBNAIL'], 'topics': ['心事', '家人'], 'forumName': '心情'}\n",
      "{'id': 238220063, 'title': '漂亮的提醒', 'excerpt': '大陸的技術，應該也做得到吧！', 'createdAt': '2022-02-26T12:35:01.222Z', 'tags': [], 'topics': ['時事', '政治', '台灣', '新聞'], 'forumName': '時事'}\n",
      "{'id': 238220061, 'title': '#情報 2/26~3/7 整點搶MO幣', 'excerpt': '3.8女王節-整點搶mo幣，加上「玩遊戲搶MO幣」+「天天簽到」活動結束應該至少可以換個免費蘋果派吃吃，大家加油🤣🤣', 'createdAt': '2022-02-26T12:34:35.778Z', 'tags': [], 'topics': ['情報'], 'forumName': '省錢'}\n",
      "{'id': 238220058, 'title': '#問 貓艾歐天然無穀糧', 'excerpt': '今天去寵物展買法x納飼料，店員告知有買一送一，送的是下面這種飼料，但在市面上好像沒看過，網路上也沒看到關於這個的評價，但看成分感覺前五項沒有到很糟糕，想問問板上各位爸媽有沒有給貓咪吃過這種飼料？', 'createdAt': '2022-02-26T12:34:02.556Z', 'tags': [], 'topics': ['貓', '寵物', '貓咪'], 'forumName': '寵物'}\n",
      "{'id': 238220057, 'title': '好市多結帳後看購物車裡貨物', 'excerpt': '如標題我想知道後面結帳完，都會一到兩位工作人員看明細再看購物車內貨物是在做什麼，明細根本沒在點隨便看一看圈起來，不覺得這個工作很廢嗎，人多時大家都知道結帳要排很久然後結帳完又要排後面看明細，是在有何意', 'createdAt': '2022-02-26T12:33:50.913Z', 'tags': ['HIDE_THUMBNAIL'], 'topics': ['好市多'], 'forumName': '工作'}\n",
      "{'id': 238220055, 'title': '為什麼教練都這麼禽獸！', 'excerpt': '很常看到教練在健身房看到正妹在訓練，然後就自己過去搭訕，看到男的老的都沒這麼熱情，白眼都翻到眉毛去了', 'createdAt': '2022-02-26T12:33:37.744Z', 'tags': [], 'topics': ['教練', '重訓', '健身'], 'forumName': '健身'}\n",
      "{'id': 238220053, 'title': '流光之城-師生姐弟戀 超好看民國劇！！', 'excerpt': '最近看到一部超好看的陸劇啊！但看板上沒啥人在討論一定要來寫一下心得！！，流光之城，根據同名小說改編的民國劇。百度百科簡介：講述了一個心思縝密的學霸家庭女教師，精心佈局接近仇家，與此同時，看似被她設計，', 'createdAt': '2022-02-26T12:33:34.925Z', 'tags': [], 'topics': ['陸劇', '民國劇', '流光之城', '追劇'], 'forumName': '戲劇綜藝'}\n",
      "{'id': 238220051, 'title': '#優惠 Line嚴選快送全面10%優惠', 'excerpt': 'Line購物開始外送服務，服務區域：（台北市），中山區、松山區、大安區、信義區，大同區、中山區、萬華區，外送品項很多，即食品、生鮮蔬果、餅乾零嘴、冷熱飲品，消費滿99即可免運費，不需額外再繳會員費！！', 'createdAt': '2022-02-26T12:33:25.979Z', 'tags': [], 'topics': ['優惠', '省錢', 'line', '折扣'], 'forumName': '省錢'}\n",
      "{'id': 238220047, 'title': '支付寶換台幣', 'excerpt': '這邊有2萬人民幣急需換台幣 有人需要嗎', 'createdAt': '2022-02-26T12:32:48.469Z', 'tags': ['HIDE_THUMBNAIL'], 'topics': ['支付寶'], 'forumName': '閒聊'}\n",
      "{'id': 238220046, 'title': '住台北是不是滿棒的', 'excerpt': '如題，美食多，妹子多，活動又多，展覽多，三創園區 松菸園區 有的沒的，生活可以過得很充實，是不是滿棒的，反觀住一些鄉下地方很無聊，想參加活動又要跑到北部', 'createdAt': '2022-02-26T12:32:41.936Z', 'tags': ['HIDE_THUMBNAIL'], 'topics': ['台北', '閒聊', '台灣', '生活'], 'forumName': '閒聊'}\n",
      "{'id': 238220044, 'title': '2022 MLB 美聯外卡模擬  光芒 vs. 紅襪 兩隊陣容 (28 人）', 'excerpt': 'Tampa Bay Rays，總教練 ： Kevin Cash，SP Tyler Glasnow，SP Corey Kluber，SP Shane Baz，SP Shane McClanahan，SP', 'createdAt': '2022-02-26T12:32:04.039Z', 'tags': ['HIDE_THUMBNAIL'], 'topics': ['MLB', '美國職棒', '美國職棒2022季後賽小模擬', '光芒隊', '紅襪'], 'forumName': '個人看板'}\n",
      "{'id': 238220040, 'title': '#分享 原來我是演員', 'excerpt': '今天揪團4人刷冰套，打一打才發現…，我這拿的不是傳說中的靠賽樂章嗎！，原來我才是那個演員🤣', 'createdAt': '2022-02-26T12:31:24.118Z', 'tags': [], 'topics': ['原神', '組隊'], 'forumName': '原神'}\n",
      "{'id': 238220037, 'title': '想請問該怎麼有這樣ㄉ完美身材', 'excerpt': '如題 我剛剛買牛仔褲的時候看到了一張國外的買家秀，⤹，（抱歉我知道偷存人家照片很噁，但真的太好看ㄌ想把她當目標…我把她套了卡通濾鏡希望大家不要太生氣嗚嗚），明明都是167為什麼她這麼完美…她的腰…，她', 'createdAt': '2022-02-26T12:30:46.575Z', 'tags': [], 'topics': ['身材', '女孩', '女生', '心事', '請問'], 'forumName': '女孩'}\n",
      "{'id': 238220036, 'title': '遊戲工程師 或 ML ?', 'excerpt': '各位前輩好，小弟目前是電資科系的，不過目前較有興趣的是這兩個領域，遊戲（偏Unreal和Unity和其他工具） 和 machine learning，遊戲產業我喜歡是因為可以大大降低使用數學和算法（我', 'createdAt': '2022-02-26T12:30:44.170Z', 'tags': ['HIDE_THUMBNAIL'], 'topics': ['遊戲', '工程師', '工作'], 'forumName': '科技業'}\n",
      "{'id': 238220033, 'title': '尋片啟事', 'excerpt': '我是許登棖，也就是三年前我高2時，被別人偷拍上熱搜丟臉丟到家的那個高中生，裡面其中的一個片段是我叫一個中年禿姓劉的大人地溝劉的東西，我說他頭上有溝，那個溝叫地溝，然後他姓劉，所以綽號叫地溝劉.....', 'createdAt': '2022-02-26T12:30:01.697Z', 'tags': [], 'topics': ['尋片'], 'forumName': '閒聊'}\n",
      "{'id': 238220032, 'title': '憂鬱症會完全好嗎', 'excerpt': '兩年前因為胃痛，導致自己不太敢出門，害怕人群，也去看了心理醫生跟身心科，我有焦慮症憂鬱症跟自律神經失調，那時候真的好常自殘，吃藥好像也沒有比較好，以為一輩子就要這樣過了，每天都好負面，但在去年我遇到了', 'createdAt': '2022-02-26T12:30:01.634Z', 'tags': ['HIDE_THUMBNAIL'], 'topics': ['焦慮症', '憂鬱症'], 'forumName': '女孩'}\n",
      "{'id': 238220031, 'title': '＃請益 Samsung watch可以連just dance嗎？', 'excerpt': '同標題，請問三星手錶可以玩just dance嗎？有詢問過店員，但他們也不確定能不能感應到，想請問版上有沒有成功連線的網友？謝謝！', 'createdAt': '2022-02-26T12:29:51.500Z', 'tags': [], 'topics': ['samsung', 'watch'], 'forumName': '3C'}\n",
      "{'id': 238220030, 'title': '近期的戰爭，有感而發...', 'excerpt': '隨著時間慢慢長大，開始漸漸會去關注國際新聞，然而看了之後自己又會開始想很多，是的，我是一個很玻璃心的人 （笑，很容易因為某些事被牽動情緒，就算事情與自己沒太大關係，剛好近期比較關注這次的戰爭，多了一些', 'createdAt': '2022-02-26T12:29:42.035Z', 'tags': [], 'topics': ['有感而發', '心情'], 'forumName': '心情'}\n",
      "{'id': 238220027, 'title': '請益獅子男', 'excerpt': '我（22）跟他（28）在網上認識的，見面頻率是每週一次，共見面4次，相處大概是以下狀況，想問一下大家認為他是認真的還是渣，1. 他樂意分享有關他的朋友和家人，性別也基本上會說明，2. 我們沒怎麼傳訊息', 'createdAt': '2022-02-26T12:29:20.972Z', 'tags': ['HIDE_THUMBNAIL'], 'topics': ['獅子', '感情', '愛情'], 'forumName': '星座'}\n",
      "{'id': 238220026, 'title': '星耀牌位', 'excerpt': '澡ㄤ，有人要打我再開房，會森七七不要來', 'createdAt': '2022-02-26T12:29:12.822Z', 'tags': [], 'topics': ['星耀'], 'forumName': '傳說對決'}\n",
      "{'id': 238220024, 'title': '常常被砍班的打工還要做嗎', 'excerpt': '去年年底剛做的餐廳外場打工，離家近 同事都很好 我覺得很棒，也不用跑來跑去，但就是老闆很愛亂砍班，大家也都默默忍受，有些人還很開心被砍班，但像今天砍到一個小時就下班覺得很靠北，同事能撐的（可以配合上課', 'createdAt': '2022-02-26T12:28:53.260Z', 'tags': ['HIDE_THUMBNAIL'], 'topics': ['打工', '工作'], 'forumName': '工作'}\n",
      "{'id': 238220021, 'title': '#問題 不了了之的車禍', 'excerpt': 'ㄜ是這樣的我半年前跟人家發生擦撞，我們都沒受傷，對方開車 我是騎車，當時有報警，做一做記錄就解散了，但過去半年了，我們好像都沒有聯絡對方，這種情況是⋯？已經不了了之了嗎，我要不要打去關心人家呀？他車子', 'createdAt': '2022-02-26T12:28:25.491Z', 'tags': ['HIDE_THUMBNAIL'], 'topics': [], 'forumName': '機車'}\n",
      "{'id': 238220017, 'title': '為什麼', 'excerpt': '前幾天說好分手，然後我們還在同居（房子還沒找到），但手賤的我還是看了他的手機，發現他問了我一直很在意的那個女生有沒有男朋友？什麼意思……我不懂，你們要罵就罵吧，我現在真的不知道該如何', 'createdAt': '2022-02-26T12:28:07.492Z', 'tags': [], 'topics': ['男友', '心事'], 'forumName': '心情'}\n",
      "{'id': 238220014, 'title': 'Re: 拔智齒傷口過了好幾個月完全沒有長任何肉', 'excerpt': '', 'createdAt': '2022-02-26T12:28:02.840Z', 'tags': [], 'topics': ['智齒', '傷口', '牙醫', '牙齒', '拔牙'], 'forumName': '問答'}\n",
      "{'id': 238220013, 'title': '#討論 文森先生超雷粉底液！', 'excerpt': '雷到不可思議 很多美妝YouTuber說可以改掉眼線什麼的 根本沒辦法：）要用嚕的 那這樣每一個粉底液都能做到啊 而且上在臉上根本拍空氣，眼線中規中矩 粉底液不行！', 'createdAt': '2022-02-26T12:28:01.372Z', 'tags': [], 'topics': ['女孩', '粉底液', '超雷', '美妝', '開箱'], 'forumName': '美妝'}\n",
      "{'id': 238220009, 'title': '找不到比我更失敗的人生了', 'excerpt': '從小到大沒有什麼擅長的，沒有任何外貌或是個性、能力的優勢，上了一間程度中等的高中，大學進了私立文學系。有憂鬱症，每個學期一開學就因為覺得面對不了課程難度，想要休學，但是家裡沒那個錢讓我當米蟲，所以我只', 'createdAt': '2022-02-26T12:27:53.355Z', 'tags': ['HIDE_THUMBNAIL'], 'topics': [], 'forumName': '心情'}\n",
      "{'id': 238220007, 'title': '#問題 台南後站停車格', 'excerpt': '想問問各位大大，台南後站的那一長排停車格真的都可以停嗎？真的很怕被拖吊，麻煩替小妹我解惑解惑', 'createdAt': '2022-02-26T12:27:11.904Z', 'tags': [], 'topics': ['問題', '台南', '停車', '機車'], 'forumName': '機車'}\n",
      "{'id': 238220005, 'title': 'Re: 拔智齒傷口過了好幾個月完全沒有長任何肉', 'excerpt': '', 'createdAt': '2022-02-26T12:26:53.124Z', 'tags': [], 'topics': ['智齒', '傷口', '牙醫', '牙齒', '拔牙'], 'forumName': '閒聊'}\n"
     ]
    }
   ],
   "source": [
    "dcard = Dcard(ctype=Type.posts)\n",
    "for post in dcard.crawler():\n",
    "    print(post)"
   ]
  },
  {
   "cell_type": "code",
   "execution_count": 5,
   "id": "f7a5fcda",
   "metadata": {},
   "outputs": [
    {
     "data": {
      "text/plain": [
       "{'id': 238214800,\n",
       " 'title': '#請益 #請益  Linked list資料結構疑問',\n",
       " 'content': '大家好，最近在研讀你所不知道C語言linked list篇時，jserv老師有提到以下這段程式碼\\n\\n\\r\\nvoid remove_list_node(List *list, Node *target)\\r\\n{\\r\\n    // The \"indirect\" pointer points to the *address*\\r\\n    // of the thing we\\'ll update.\\n\\r\\n    Node **indirect = &list->head;\\n\\n\\r\\n    // Walk the list, looking for the thing that \\r\\n    // points to the node we want to remove.\\n\\r\\n    while (*indirect != target)\\r\\n        indirect = &(*indirect)->next;\\r\\n    *indirect = target->next;\\n\\n\\r\\n}\\n\\n思考很久也看了說明但還是不知道indirect 使用pointer to pointer 的用意是甚麼\\n\\n以往我理解linked list的實作方式是採用 Node *indirect = list->head ，有個指標指向整個list的head node的address，但在這邊再次取址(&)又會取得甚麼東西呢?',\n",
       " 'createdAt': '2022-02-25T16:32:13.294Z',\n",
       " 'tags': ['HIDE_THUMBNAIL'],\n",
       " 'topics': ['請益', '資料結構'],\n",
       " 'forumName': '軟體工程師'}"
      ]
     },
     "execution_count": 5,
     "metadata": {},
     "output_type": "execute_result"
    }
   ],
   "source": [
    "dcard = Dcard(ctype=Type.id, id='238214800')\n",
    "dcard_id = dcard.crawler()\n",
    "dcard_id"
   ]
  },
  {
   "cell_type": "code",
   "execution_count": 6,
   "id": "b61109db",
   "metadata": {},
   "outputs": [
    {
     "data": {
      "text/plain": [
       "{'id': 238214800,\n",
       " 'title': '#請益 #請益  Linked list資料結構疑問',\n",
       " 'content': '大家好，最近在研讀你所不知道C語言linked list篇時，jserv老師有提到以下這段程式碼\\n\\n\\r\\nvoid remove_list_node(List *list, Node *target)\\r\\n{\\r\\n    // The \"indirect\" pointer points to the *address*\\r\\n    // of the thing we\\'ll update.\\n\\r\\n    Node **indirect = &list->head;\\n\\n\\r\\n    // Walk the list, looking for the thing that \\r\\n    // points to the node we want to remove.\\n\\r\\n    while (*indirect != target)\\r\\n        indirect = &(*indirect)->next;\\r\\n    *indirect = target->next;\\n\\n\\r\\n}\\n\\n思考很久也看了說明但還是不知道indirect 使用pointer to pointer 的用意是甚麼\\n\\n以往我理解linked list的實作方式是採用 Node *indirect = list->head ，有個指標指向整個list的head node的address，但在這邊再次取址(&)又會取得甚麼東西呢?',\n",
       " 'createdAt': '2022-02-25T16:32:13.294Z',\n",
       " 'tags': ['HIDE_THUMBNAIL'],\n",
       " 'topics': ['請益', '資料結構'],\n",
       " 'forumName': '軟體工程師',\n",
       " 'allcomments': ['寫這麼複雜\\n拐彎抹角\\n寫代碼應該越簡單越好',\n",
       "  '1. 省掉不必要的指標 （非主因）\\n2. 去除特例（如果 Target 是 Head，則不會有 prev）\\n這邊附上前幾天老師分享的問答筆記：\\nhttps://hackmd.io/5zdyXn6uQMOeSoVBapuVNw?view&fbclid=IwAR35UzmuHtVIcQ98MQoiHwnGVYmMuhMJmgdvhSGYJTBLxav6sagRNECHGR8',\n",
       "  '這樣寫出來理論上應該是會比一般的寫法來的好懂很多才是\\n如果不懂的話，主要問題應該是出在對 pointer 的概念不熟悉吧\\n尤其是雙重指標的部分\\n\\n簡單來說\\n通常我們需要指向 target 的前一個節點\\n才有辦法把 target 刪除掉\\n但是如果 target 剛好又是 head\\n則沒有前一個節點讓你指\\n於是就產生了例外狀況\\n要多一個 if (target == head) \\n去做額外處理\\n\\n但如果是使用 pointer to pointer\\n去指向「指向 target 的指標」\\n則沒有這個問題\\n因為就算是 head\\n也還是會有一個「指向 head 的指標」\\n\\n我自己的話是在看這篇文章之前就有自己想出這種解法了（沒要炫耀嘿嘿）\\n不過我那時是使用 reference to pointer\\n一樣的意思啦',\n",
       "  'B3-3 \\n1. 取得指向 head 的 pointer 的記憶體位址\\n2. 如果使用 (*indirect)->next 會更新到 Linked list，indirect = &(*indirect)->next 只是單純讓 indirect 指標指向下一個節點的 pointer，也就是尋訪的操作而已～\\n\\nIndirect 是間接操作的處理方式，如果對指標的使用還不熟悉可以多加練習，搞不好晚點來看腦子就通了 XD',\n",
       "  '不是有說就不用多寫特例了嗎？而且共筆也畫圖給你看了',\n",
       "  'B5 用敘述的時候都聽得懂 但看到程式碼自己實作時候又卡住',\n",
       "  '把 Node* 想成是 int 下去看']}"
      ]
     },
     "execution_count": 6,
     "metadata": {},
     "output_type": "execute_result"
    }
   ],
   "source": [
    "dcard = Dcard(ctype=Type.id, id='238214800', comment=True)\n",
    "dcard_id_comment = dcard.crawler()\n",
    "dcard_id_comment"
   ]
  }
 ],
 "metadata": {
  "kernelspec": {
   "display_name": "Python 3 (ipykernel)",
   "language": "python",
   "name": "python3"
  },
  "language_info": {
   "codemirror_mode": {
    "name": "ipython",
    "version": 3
   },
   "file_extension": ".py",
   "mimetype": "text/x-python",
   "name": "python",
   "nbconvert_exporter": "python",
   "pygments_lexer": "ipython3",
   "version": "3.8.8"
  }
 },
 "nbformat": 4,
 "nbformat_minor": 5
}
