{
 "cells": [
  {
   "cell_type": "markdown",
   "id": "26f6b1ae-771f-4963-a26c-e9faa505404f",
   "metadata": {},
   "source": [
    "## **Source Data**"
   ]
  },
  {
   "cell_type": "code",
   "execution_count": 1,
   "id": "3bbc4fe8-1f57-491f-84b9-45636b1fe0b7",
   "metadata": {},
   "outputs": [
    {
     "data": {
      "text/plain": [
       "'https://www.twse.com.tw/'"
      ]
     },
     "execution_count": 1,
     "metadata": {},
     "output_type": "execute_result"
    }
   ],
   "source": [
    "from twse import TWSE_URL\n",
    "\n",
    "TWSE_URL.demo.daily_trading\n",
    "TWSE_URL.demo.daily_quotes\n",
    "TWSE_URL.main_path"
   ]
  },
  {
   "cell_type": "markdown",
   "id": "2b0deb0b-2f79-4998-a388-870bc807c44b",
   "metadata": {},
   "source": [
    "## **Import TWSE**"
   ]
  },
  {
   "cell_type": "code",
   "execution_count": 2,
   "id": "917dd7f0-b5b7-42e4-9db4-de3f12a88745",
   "metadata": {},
   "outputs": [
    {
     "data": {
      "text/plain": [
       "{'抓取每日收盤行情(全部)': 'crawler_all()', '抓取個股當月收盤行情': 'crawler_stocks()'}"
      ]
     },
     "execution_count": 2,
     "metadata": {},
     "output_type": "execute_result"
    }
   ],
   "source": [
    "from twse import TWSE\n",
    "TWSE.cat"
   ]
  },
  {
   "cell_type": "code",
   "execution_count": 3,
   "id": "79b8d739-b7c9-4c35-a591-773fdd07d75c",
   "metadata": {},
   "outputs": [],
   "source": [
    "from twse import TWSE\n",
    "\n",
    "period = ('2021-08-12', '2021-08-14')"
   ]
  },
  {
   "cell_type": "markdown",
   "id": "e82f2fe4-2ebb-46d6-994a-a514dede78ae",
   "metadata": {},
   "source": [
    "### **抓取$\\color{#BA2121}{每日}$收盤行情**"
   ]
  },
  {
   "cell_type": "markdown",
   "id": "41f6b408-1499-44a9-b0d5-6e540e6d6194",
   "metadata": {},
   "source": [
    "#### **STEP 1 設定相關資訊**\n",
    "```python\n",
    "period = ('2021-08-12', '2021-08-14')\n",
    "\n",
    "daily_quotes = TWSE(period = period)\n",
    "\n",
    "daily_quotes = TWSE(period = period, \n",
    "                    daily_quotes_num = [9] # 指定回傳特定資料表, list\n",
    "                   )\n",
    "```\n",
    "#### **STEP 2 開始抓取資料**\n",
    "```python\n",
    "dict_dfs = daily_quotes.crawler_all()\n",
    "```"
   ]
  },
  {
   "cell_type": "code",
   "execution_count": 4,
   "id": "1e23b5af-7a39-4501-b0c0-16630f48c4a6",
   "metadata": {},
   "outputs": [],
   "source": [
    "daily_quotes = TWSE(period = period)\n",
    "dict_dfs = daily_quotes.crawler_all()"
   ]
  },
  {
   "cell_type": "markdown",
   "id": "04e55fe6-66b5-4cec-ad76-1e6e10d437ff",
   "metadata": {},
   "source": [
    "#### **STEP 3 回傳資料型態**\n",
    "```python\n",
    "type(dict_dfs)\n",
    ">>> dict\n",
    "\n",
    "dict_dfs.keys()\n",
    ">>> dict_keys(['2021-08-12', '2021-08-13'])\n",
    "\n",
    "'''\n",
    "2021-08-14為假日，自動跳過。\n",
    "'''\n",
    "\n",
    "for key in dict_dfs['2021-08-12']:\n",
    "    print(key)\n",
    "\n",
    ">>> 1 # 110年08月12日 價格指數(臺灣證券交易所)\n",
    ">>> 2 # 價格指數(跨市場)\n",
    ">>> 3 # 價格指數(臺灣指數公司)\n",
    ">>> 4 # 報酬指數(臺灣證券交易所)\n",
    ">>> 5 # 報酬指數(跨市場)\n",
    ">>> 6 # 報酬指數(臺灣指數公司)\n",
    ">>> 7 # 110年08月12日 大盤統計資訊\n",
    ">>> 8 # 漲跌證券數合計\n",
    ">>> 9 # 110年08月12日每日收盤行情(全部)\n",
    "```"
   ]
  },
  {
   "cell_type": "markdown",
   "id": "3540953a-c90e-427b-a010-85497968df1b",
   "metadata": {},
   "source": [
    "```markdown\n",
    "dict_dfs\n",
    "   |\n",
    "   |__ 2021-08-12\n",
    "   |  |__110年08月12日 價格指數(臺灣證券交易所)\n",
    "   |  |__價格指數(跨市場)\n",
    "   |  |__價格指數(臺灣指數公司)\n",
    "   |  |__報酬指數(臺灣證券交易所)\n",
    "   |  |__報酬指數(跨市場)\n",
    "   |  |__報酬指數(臺灣指數公司)\n",
    "   |  |__110年08月12日 大盤統計資訊\n",
    "   |  |__漲跌證券數合計\n",
    "   |  |__110年08月12日每日收盤行情(全部)\n",
    "   |\n",
    "   |__2021-08-13\n",
    "      |__110年08月13日 價格指數(臺灣證券交易所)\n",
    "      |__價格指數(跨市場)\n",
    "      |__價格指數(臺灣指數公司)\n",
    "      |__報酬指數(臺灣證券交易所)\n",
    "      |__報酬指數(跨市場)\n",
    "      |__報酬指數(臺灣指數公司)\n",
    "      |__110年08月13日 大盤統計資訊\n",
    "      |__漲跌證券數合計\n",
    "      |__110年08月13日每日收盤行情(全部)\n",
    "```"
   ]
  },
  {
   "cell_type": "code",
   "execution_count": 20,
   "id": "9ff2ccd6-c3fd-4f41-ab05-e3a89863e125",
   "metadata": {},
   "outputs": [
    {
     "ename": "KeyError",
     "evalue": "'2021-08-12'",
     "output_type": "error",
     "traceback": [
      "\u001b[1;31m---------------------------------------------------------------------------\u001b[0m",
      "\u001b[1;31mKeyError\u001b[0m                                  Traceback (most recent call last)",
      "\u001b[1;32m<ipython-input-20-122f74446797>\u001b[0m in \u001b[0;36m<module>\u001b[1;34m\u001b[0m\n\u001b[1;32m----> 1\u001b[1;33m \u001b[0mdict_dfs\u001b[0m\u001b[1;33m[\u001b[0m\u001b[1;34m'2021-08-12'\u001b[0m\u001b[1;33m]\u001b[0m\u001b[1;33m[\u001b[0m\u001b[1;36m1\u001b[0m\u001b[1;33m]\u001b[0m\u001b[1;33m.\u001b[0m\u001b[0mhead\u001b[0m\u001b[1;33m(\u001b[0m\u001b[1;36m3\u001b[0m\u001b[1;33m)\u001b[0m\u001b[1;33m\u001b[0m\u001b[1;33m\u001b[0m\u001b[0m\n\u001b[0m",
      "\u001b[1;31mKeyError\u001b[0m: '2021-08-12'"
     ]
    }
   ],
   "source": [
    "dict_dfs['2021-08-12'][1].head(3)"
   ]
  },
  {
   "cell_type": "code",
   "execution_count": 6,
   "id": "804effdd-b743-4aaf-9984-846abfe61e8b",
   "metadata": {},
   "outputs": [],
   "source": [
    "daily_quotes = TWSE(period = period, daily_quotes_num = [9])"
   ]
  },
  {
   "cell_type": "code",
   "execution_count": 7,
   "id": "f5573e35-d7f6-468d-8fd2-7942925366e4",
   "metadata": {},
   "outputs": [],
   "source": [
    "dict_dfs = daily_quotes.crawler_all()"
   ]
  },
  {
   "cell_type": "code",
   "execution_count": 8,
   "id": "18dc422b-cddf-4968-a133-bfbb24753b1a",
   "metadata": {},
   "outputs": [
    {
     "data": {
      "text/html": [
       "<div>\n",
       "<style scoped>\n",
       "    .dataframe tbody tr th:only-of-type {\n",
       "        vertical-align: middle;\n",
       "    }\n",
       "\n",
       "    .dataframe tbody tr th {\n",
       "        vertical-align: top;\n",
       "    }\n",
       "\n",
       "    .dataframe thead th {\n",
       "        text-align: right;\n",
       "    }\n",
       "</style>\n",
       "<table border=\"1\" class=\"dataframe\">\n",
       "  <thead>\n",
       "    <tr style=\"text-align: right;\">\n",
       "      <th></th>\n",
       "      <th>證券代號</th>\n",
       "      <th>證券名稱</th>\n",
       "      <th>成交股數</th>\n",
       "      <th>成交筆數</th>\n",
       "      <th>成交金額</th>\n",
       "      <th>開盤價</th>\n",
       "      <th>最高價</th>\n",
       "      <th>最低價</th>\n",
       "      <th>收盤價</th>\n",
       "      <th>漲跌(+/-)</th>\n",
       "      <th>漲跌價差</th>\n",
       "      <th>最後揭示買價</th>\n",
       "      <th>最後揭示買量</th>\n",
       "      <th>最後揭示賣價</th>\n",
       "      <th>最後揭示賣量</th>\n",
       "      <th>本益比</th>\n",
       "      <th>日期</th>\n",
       "    </tr>\n",
       "  </thead>\n",
       "  <tbody>\n",
       "    <tr>\n",
       "      <th>0</th>\n",
       "      <td>50.0</td>\n",
       "      <td>元大台灣50</td>\n",
       "      <td>7816273.0</td>\n",
       "      <td>16810.0</td>\n",
       "      <td>1.061673e+09</td>\n",
       "      <td>136.6</td>\n",
       "      <td>136.85</td>\n",
       "      <td>135.55</td>\n",
       "      <td>135.65</td>\n",
       "      <td>-</td>\n",
       "      <td>1.30</td>\n",
       "      <td>135.65</td>\n",
       "      <td>3.0</td>\n",
       "      <td>135.7</td>\n",
       "      <td>52.0</td>\n",
       "      <td>0.0</td>\n",
       "      <td>2021-08-13</td>\n",
       "    </tr>\n",
       "    <tr>\n",
       "      <th>1</th>\n",
       "      <td>51.0</td>\n",
       "      <td>元大中型100</td>\n",
       "      <td>94265.0</td>\n",
       "      <td>113.0</td>\n",
       "      <td>5.338646e+06</td>\n",
       "      <td>57.25</td>\n",
       "      <td>57.25</td>\n",
       "      <td>56.35</td>\n",
       "      <td>56.35</td>\n",
       "      <td>-</td>\n",
       "      <td>0.85</td>\n",
       "      <td>56.35</td>\n",
       "      <td>36.0</td>\n",
       "      <td>56.65</td>\n",
       "      <td>10.0</td>\n",
       "      <td>0.0</td>\n",
       "      <td>2021-08-13</td>\n",
       "    </tr>\n",
       "    <tr>\n",
       "      <th>2</th>\n",
       "      <td>52.0</td>\n",
       "      <td>富邦科技</td>\n",
       "      <td>771387.0</td>\n",
       "      <td>527.0</td>\n",
       "      <td>9.470217e+07</td>\n",
       "      <td>124.05</td>\n",
       "      <td>124.05</td>\n",
       "      <td>122.5</td>\n",
       "      <td>122.55</td>\n",
       "      <td>-</td>\n",
       "      <td>1.50</td>\n",
       "      <td>122.5</td>\n",
       "      <td>24.0</td>\n",
       "      <td>122.7</td>\n",
       "      <td>10.0</td>\n",
       "      <td>0.0</td>\n",
       "      <td>2021-08-13</td>\n",
       "    </tr>\n",
       "  </tbody>\n",
       "</table>\n",
       "</div>"
      ],
      "text/plain": [
       "   證券代號     證券名稱       成交股數     成交筆數          成交金額     開盤價     最高價     最低價  \\\n",
       "0  50.0   元大台灣50  7816273.0  16810.0  1.061673e+09   136.6  136.85  135.55   \n",
       "1  51.0  元大中型100    94265.0    113.0  5.338646e+06   57.25   57.25   56.35   \n",
       "2  52.0     富邦科技   771387.0    527.0  9.470217e+07  124.05  124.05   122.5   \n",
       "\n",
       "      收盤價 漲跌(+/-)  漲跌價差  最後揭示買價  最後揭示買量 最後揭示賣價  最後揭示賣量  本益比          日期  \n",
       "0  135.65       -  1.30  135.65     3.0  135.7    52.0  0.0  2021-08-13  \n",
       "1   56.35       -  0.85   56.35    36.0  56.65    10.0  0.0  2021-08-13  \n",
       "2  122.55       -  1.50   122.5    24.0  122.7    10.0  0.0  2021-08-13  "
      ]
     },
     "execution_count": 8,
     "metadata": {},
     "output_type": "execute_result"
    }
   ],
   "source": [
    "dict_dfs['2021-08-13'][9].head(3)"
   ]
  },
  {
   "cell_type": "markdown",
   "id": "d15bd8b0-f97d-4a04-935b-9d06d4b8b497",
   "metadata": {},
   "source": [
    "### **抓取個股當月收盤行情**"
   ]
  },
  {
   "cell_type": "markdown",
   "id": "8b9e5ac7-f1ba-4938-9b35-a51979f03ce6",
   "metadata": {},
   "source": [
    "#### **STEP 1 設定相關資訊**"
   ]
  },
  {
   "cell_type": "markdown",
   "id": "00762755-453f-4978-be00-bf0d7ca09261",
   "metadata": {},
   "source": [
    "```python\n",
    "stock_codes = ['2330','1234', '2357', '2317']\n",
    "period = ('2021-01-1', '2021-04-1')\n",
    "\n",
    "'''Period Fomat\n",
    "\n",
    "   (%Y-%m-%1) 每個月的1號開始及結束，避免重複抓取\n",
    "\n",
    "'''\n",
    "\n",
    "```"
   ]
  },
  {
   "cell_type": "code",
   "execution_count": 9,
   "id": "36691a68-718a-4d84-8453-c5a348e2da95",
   "metadata": {},
   "outputs": [],
   "source": [
    "from twse import TWSE\n",
    "\n",
    "stock_codes = ['2330', '1234']\n",
    "period = ('2021-04-1', '2021-08-1')"
   ]
  },
  {
   "cell_type": "markdown",
   "id": "a819c798-b8cf-428c-9386-d103296e3649",
   "metadata": {},
   "source": [
    "#### **STEP 2 開始抓取資料**"
   ]
  },
  {
   "cell_type": "markdown",
   "id": "f38dfc81-6a20-4645-a0ab-1c0620bdf279",
   "metadata": {},
   "source": [
    "1. **方法 1 全部回傳**\n",
    "\n",
    "```python\n",
    "twse = TWSE(period = period, stock_codes = stock_codes)\n",
    "dict_dfs = twse.crawler_stocks()\n",
    "dict_dfs[stock_codes[0]]\n",
    "```\n",
    "\n",
    "\n",
    "2. **方法 2 批次回傳**\n",
    "\n",
    "```python\n",
    "for stock_code in stock_codes:\n",
    "    twse = TWSE(period = period, stock_codes = [stock_code])\n",
    "    df = twse.crawler_stocks()\n",
    "    \n",
    "df[stock_code]\n",
    "```"
   ]
  },
  {
   "cell_type": "code",
   "execution_count": 10,
   "id": "7decaad5-7edf-4537-b0ab-3437435f26e7",
   "metadata": {},
   "outputs": [],
   "source": [
    "twse = TWSE(period = period, stock_codes = stock_codes)"
   ]
  },
  {
   "cell_type": "code",
   "execution_count": 11,
   "id": "2d87ff52-8ee9-4a1c-9a55-478fb55272c4",
   "metadata": {},
   "outputs": [
    {
     "name": "stdout",
     "output_type": "stream",
     "text": [
      "2330\n",
      "2021-04-01 00:00:00 \n",
      "2021-05-01 00:00:00 \n",
      "2021-06-01 00:00:00 \n",
      "2021-07-01 00:00:00 \n",
      "2021-08-01 00:00:00 \n",
      "1234\n",
      "2021-04-01 00:00:00 \n",
      "2021-05-01 00:00:00 \n",
      "2021-06-01 00:00:00 \n",
      "2021-07-01 00:00:00 \n",
      "2021-08-01 00:00:00 \n"
     ]
    }
   ],
   "source": [
    "dict_dfs = twse.crawler_stocks()"
   ]
  },
  {
   "cell_type": "markdown",
   "id": "b477b57a-851f-4889-8187-10b1de49670f",
   "metadata": {},
   "source": [
    "#### **STEP 3 回傳資料型態**"
   ]
  },
  {
   "cell_type": "markdown",
   "id": "7bf84205-57dc-4402-a2b2-d494908187fd",
   "metadata": {},
   "source": [
    "```python\n",
    "type(dict_dfs)\n",
    ">>> dict\n",
    "\n",
    "dict_dfs.keys()\n",
    ">>> dict_keys(['2330', '1234'])\n",
    "```"
   ]
  },
  {
   "cell_type": "code",
   "execution_count": 12,
   "id": "f52d02a6-8f9b-44fc-92df-0fcc7d5fb960",
   "metadata": {},
   "outputs": [
    {
     "data": {
      "text/plain": [
       "dict_keys(['2330', '1234'])"
      ]
     },
     "execution_count": 12,
     "metadata": {},
     "output_type": "execute_result"
    }
   ],
   "source": [
    "dict_dfs.keys()"
   ]
  },
  {
   "cell_type": "markdown",
   "id": "7f51f505-5ea0-42a0-bfae-7c7619d7e5b8",
   "metadata": {},
   "source": [
    "|    | 日期                |    成交股數 |    成交金額 |   開盤價 |   最高價 |   最低價 |   收盤價 |   漲跌價差 |   成交筆數 |   股票代碼 |\n",
    "|---:|:--------------------|------------:|------------:|---------:|---------:|---------:|---------:|-----------:|-----------:|-----------:|\n",
    "|  0 | 2021-01-04 00:00:00 | 3.949e+07   | 2.11276e+10 |      530 |      540 |      528 |      536 |          6 |      33316 |       2330 |\n",
    "|  1 | 2021-01-05 00:00:00 | 3.48394e+07 | 1.87618e+10 |      536 |      542 |      535 |      542 |          6 |      28512 |       2330 |\n",
    "|  2 | 2021-01-06 00:00:00 | 5.56144e+07 | 3.05728e+10 |      555 |      555 |      541 |      549 |          7 |      55462 |       2330 |"
   ]
  },
  {
   "cell_type": "code",
   "execution_count": 13,
   "id": "9cf7d88c-daf9-4eaf-8d32-8a3ca9a572f7",
   "metadata": {},
   "outputs": [
    {
     "data": {
      "text/html": [
       "<div>\n",
       "<style scoped>\n",
       "    .dataframe tbody tr th:only-of-type {\n",
       "        vertical-align: middle;\n",
       "    }\n",
       "\n",
       "    .dataframe tbody tr th {\n",
       "        vertical-align: top;\n",
       "    }\n",
       "\n",
       "    .dataframe thead th {\n",
       "        text-align: right;\n",
       "    }\n",
       "</style>\n",
       "<table border=\"1\" class=\"dataframe\">\n",
       "  <thead>\n",
       "    <tr style=\"text-align: right;\">\n",
       "      <th></th>\n",
       "      <th>日期</th>\n",
       "      <th>成交股數</th>\n",
       "      <th>成交金額</th>\n",
       "      <th>開盤價</th>\n",
       "      <th>最高價</th>\n",
       "      <th>最低價</th>\n",
       "      <th>收盤價</th>\n",
       "      <th>漲跌價差</th>\n",
       "      <th>成交筆數</th>\n",
       "      <th>股票代碼</th>\n",
       "    </tr>\n",
       "  </thead>\n",
       "  <tbody>\n",
       "    <tr>\n",
       "      <th>0</th>\n",
       "      <td>2021-04-01</td>\n",
       "      <td>45972766.0</td>\n",
       "      <td>2.752074e+10</td>\n",
       "      <td>598.0</td>\n",
       "      <td>602.0</td>\n",
       "      <td>594.0</td>\n",
       "      <td>602.0</td>\n",
       "      <td>15.0</td>\n",
       "      <td>48170.0</td>\n",
       "      <td>2330</td>\n",
       "    </tr>\n",
       "    <tr>\n",
       "      <th>1</th>\n",
       "      <td>2021-04-06</td>\n",
       "      <td>37664216.0</td>\n",
       "      <td>2.304513e+10</td>\n",
       "      <td>615.0</td>\n",
       "      <td>616.0</td>\n",
       "      <td>608.0</td>\n",
       "      <td>610.0</td>\n",
       "      <td>8.0</td>\n",
       "      <td>42422.0</td>\n",
       "      <td>2330</td>\n",
       "    </tr>\n",
       "    <tr>\n",
       "      <th>2</th>\n",
       "      <td>2021-04-07</td>\n",
       "      <td>28140964.0</td>\n",
       "      <td>1.717595e+10</td>\n",
       "      <td>614.0</td>\n",
       "      <td>614.0</td>\n",
       "      <td>608.0</td>\n",
       "      <td>610.0</td>\n",
       "      <td>0.0</td>\n",
       "      <td>28395.0</td>\n",
       "      <td>2330</td>\n",
       "    </tr>\n",
       "  </tbody>\n",
       "</table>\n",
       "</div>"
      ],
      "text/plain": [
       "           日期        成交股數          成交金額    開盤價    最高價    最低價    收盤價  漲跌價差  \\\n",
       "0  2021-04-01  45972766.0  2.752074e+10  598.0  602.0  594.0  602.0  15.0   \n",
       "1  2021-04-06  37664216.0  2.304513e+10  615.0  616.0  608.0  610.0   8.0   \n",
       "2  2021-04-07  28140964.0  1.717595e+10  614.0  614.0  608.0  610.0   0.0   \n",
       "\n",
       "      成交筆數  股票代碼  \n",
       "0  48170.0  2330  \n",
       "1  42422.0  2330  \n",
       "2  28395.0  2330  "
      ]
     },
     "execution_count": 13,
     "metadata": {},
     "output_type": "execute_result"
    }
   ],
   "source": [
    "dict_dfs['2330'].head(3)"
   ]
  },
  {
   "cell_type": "markdown",
   "id": "2f862fbc-0c10-42d5-b651-803f83675d74",
   "metadata": {},
   "source": [
    "## **SQLite**"
   ]
  },
  {
   "cell_type": "markdown",
   "id": "7a60ce32-1246-498a-9ede-c67d071af9a9",
   "metadata": {},
   "source": [
    "### **Table Structure**\n",
    "```python\n",
    "def create_table():\n",
    "    tb = '''\n",
    "            股票代碼 int,\n",
    "            日期 date, \n",
    "            成交股數 float, \n",
    "            成交金額 float, \n",
    "            開盤價 float, \n",
    "            最高價 float, \n",
    "            最低價 float, \n",
    "            收盤價 float, \n",
    "            漲跌價差 float, \n",
    "            成交筆數 float    \n",
    "    '''\n",
    "    return tb\n",
    "```"
   ]
  },
  {
   "cell_type": "code",
   "execution_count": 14,
   "id": "82bb3db2-8ddf-43ec-8615-a41b67939b22",
   "metadata": {},
   "outputs": [],
   "source": [
    "def create_table():\n",
    "    tb = '''\n",
    "            股票代碼 varchar,\n",
    "            日期 date, \n",
    "            成交股數 float, \n",
    "            成交金額 float, \n",
    "            開盤價 float, \n",
    "            最高價 float, \n",
    "            最低價 float, \n",
    "            收盤價 float, \n",
    "            漲跌價差 float, \n",
    "            成交筆數 float    \n",
    "    '''\n",
    "    return tb"
   ]
  },
  {
   "cell_type": "markdown",
   "id": "b9f70760-b99d-4346-9b07-0d770ba3f486",
   "metadata": {},
   "source": [
    "### **DB connection**"
   ]
  },
  {
   "cell_type": "code",
   "execution_count": 15,
   "id": "e5fcfeed-aa1c-4d78-9a30-db1090bf267c",
   "metadata": {},
   "outputs": [],
   "source": [
    "import sqlite3\n",
    "\n",
    "conn = sqlite3.connect('TWSE.db')\n",
    "c = conn.cursor() \n",
    "try:\n",
    "    c.execute(f'''CREATE TABLE TWSE({create_table()})''')\n",
    "except:\n",
    "    pass"
   ]
  },
  {
   "cell_type": "code",
   "execution_count": 16,
   "id": "88481807-dc3e-4ee6-9800-7db14746f7a6",
   "metadata": {},
   "outputs": [],
   "source": [
    "from twse import TWSE\n",
    "\n",
    "period = ('2021-03-1', '2021-08-1')"
   ]
  },
  {
   "cell_type": "markdown",
   "id": "6decc1b4-1eaa-4761-b003-e0599817d39e",
   "metadata": {},
   "source": [
    "#### **存入多筆資料**"
   ]
  },
  {
   "cell_type": "code",
   "execution_count": 17,
   "id": "b7ff6474-8b01-4149-863e-27a2ab4bd0d2",
   "metadata": {},
   "outputs": [
    {
     "name": "stdout",
     "output_type": "stream",
     "text": [
      "2330\n",
      "2021-03-01 00:00:00 \n",
      "2021-04-01 00:00:00 \n",
      "2021-05-01 00:00:00 \n",
      "2021-06-01 00:00:00 \n",
      "2021-07-01 00:00:00 \n",
      "2021-08-01 00:00:00 \n",
      "1234\n",
      "2021-03-01 00:00:00 \n",
      "2021-04-01 00:00:00 \n",
      "2021-05-01 00:00:00 \n",
      "2021-06-01 00:00:00 \n",
      "2021-07-01 00:00:00 \n",
      "2021-08-01 00:00:00 \n",
      "2357\n",
      "2021-03-01 00:00:00 \n",
      "2021-04-01 00:00:00 \n",
      "2021-05-01 00:00:00 \n",
      "2021-06-01 00:00:00 \n",
      "2021-07-01 00:00:00 \n",
      "2021-08-01 00:00:00 \n",
      "2317\n",
      "2021-03-01 00:00:00 \n",
      "2021-04-01 00:00:00 \n",
      "2021-05-01 00:00:00 \n",
      "2021-06-01 00:00:00 \n",
      "2021-07-01 00:00:00 \n",
      "2021-08-01 00:00:00 \n"
     ]
    }
   ],
   "source": [
    "stock_codes = ['2330','1234', '2357', '2317']\n",
    "\n",
    "for stock_code in stock_codes:\n",
    "    twse = TWSE(period = period, stock_codes = [stock_code])\n",
    "    df = twse.crawler_stocks()\n",
    "    df[stock_code].to_sql('TWSE', conn, if_exists='append', index = False)\n",
    "conn.close()"
   ]
  },
  {
   "cell_type": "code",
   "execution_count": 18,
   "id": "f992d589-bc89-47cf-92ab-ad7efb9acb23",
   "metadata": {},
   "outputs": [],
   "source": [
    "import sqlite3 as sql\n",
    "import pandas as pd\n",
    "con = sql.connect(\"TWSE.db\")\n",
    "df = pd.read_sql(f\"select 股票代碼, 開盤價, 最低價, 最高價, 收盤價, 日期 from TWSE where 股票代碼 = '2330' and 日期 between '2021-08-01' and '2021-08-17'\", con)"
   ]
  },
  {
   "cell_type": "code",
   "execution_count": 19,
   "id": "4f026354-4404-4e9c-822e-001f38945eeb",
   "metadata": {},
   "outputs": [
    {
     "data": {
      "text/html": [
       "<div>\n",
       "<style scoped>\n",
       "    .dataframe tbody tr th:only-of-type {\n",
       "        vertical-align: middle;\n",
       "    }\n",
       "\n",
       "    .dataframe tbody tr th {\n",
       "        vertical-align: top;\n",
       "    }\n",
       "\n",
       "    .dataframe thead th {\n",
       "        text-align: right;\n",
       "    }\n",
       "</style>\n",
       "<table border=\"1\" class=\"dataframe\">\n",
       "  <thead>\n",
       "    <tr style=\"text-align: right;\">\n",
       "      <th></th>\n",
       "      <th>股票代碼</th>\n",
       "      <th>開盤價</th>\n",
       "      <th>最低價</th>\n",
       "      <th>最高價</th>\n",
       "      <th>收盤價</th>\n",
       "      <th>日期</th>\n",
       "    </tr>\n",
       "  </thead>\n",
       "  <tbody>\n",
       "    <tr>\n",
       "      <th>0</th>\n",
       "      <td>2330</td>\n",
       "      <td>583.0</td>\n",
       "      <td>580.0</td>\n",
       "      <td>590.0</td>\n",
       "      <td>590.0</td>\n",
       "      <td>2021-08-02</td>\n",
       "    </tr>\n",
       "    <tr>\n",
       "      <th>1</th>\n",
       "      <td>2330</td>\n",
       "      <td>594.0</td>\n",
       "      <td>590.0</td>\n",
       "      <td>594.0</td>\n",
       "      <td>594.0</td>\n",
       "      <td>2021-08-03</td>\n",
       "    </tr>\n",
       "    <tr>\n",
       "      <th>2</th>\n",
       "      <td>2330</td>\n",
       "      <td>598.0</td>\n",
       "      <td>594.0</td>\n",
       "      <td>598.0</td>\n",
       "      <td>596.0</td>\n",
       "      <td>2021-08-04</td>\n",
       "    </tr>\n",
       "    <tr>\n",
       "      <th>3</th>\n",
       "      <td>2330</td>\n",
       "      <td>598.0</td>\n",
       "      <td>593.0</td>\n",
       "      <td>598.0</td>\n",
       "      <td>596.0</td>\n",
       "      <td>2021-08-05</td>\n",
       "    </tr>\n",
       "    <tr>\n",
       "      <th>4</th>\n",
       "      <td>2330</td>\n",
       "      <td>596.0</td>\n",
       "      <td>588.0</td>\n",
       "      <td>596.0</td>\n",
       "      <td>591.0</td>\n",
       "      <td>2021-08-06</td>\n",
       "    </tr>\n",
       "    <tr>\n",
       "      <th>5</th>\n",
       "      <td>2330</td>\n",
       "      <td>590.0</td>\n",
       "      <td>583.0</td>\n",
       "      <td>595.0</td>\n",
       "      <td>595.0</td>\n",
       "      <td>2021-08-09</td>\n",
       "    </tr>\n",
       "    <tr>\n",
       "      <th>6</th>\n",
       "      <td>2330</td>\n",
       "      <td>596.0</td>\n",
       "      <td>589.0</td>\n",
       "      <td>596.0</td>\n",
       "      <td>591.0</td>\n",
       "      <td>2021-08-10</td>\n",
       "    </tr>\n",
       "    <tr>\n",
       "      <th>7</th>\n",
       "      <td>2330</td>\n",
       "      <td>590.0</td>\n",
       "      <td>585.0</td>\n",
       "      <td>590.0</td>\n",
       "      <td>590.0</td>\n",
       "      <td>2021-08-11</td>\n",
       "    </tr>\n",
       "    <tr>\n",
       "      <th>8</th>\n",
       "      <td>2330</td>\n",
       "      <td>586.0</td>\n",
       "      <td>584.0</td>\n",
       "      <td>588.0</td>\n",
       "      <td>586.0</td>\n",
       "      <td>2021-08-12</td>\n",
       "    </tr>\n",
       "    <tr>\n",
       "      <th>9</th>\n",
       "      <td>2330</td>\n",
       "      <td>585.0</td>\n",
       "      <td>579.0</td>\n",
       "      <td>585.0</td>\n",
       "      <td>581.0</td>\n",
       "      <td>2021-08-13</td>\n",
       "    </tr>\n",
       "    <tr>\n",
       "      <th>10</th>\n",
       "      <td>2330</td>\n",
       "      <td>582.0</td>\n",
       "      <td>578.0</td>\n",
       "      <td>586.0</td>\n",
       "      <td>584.0</td>\n",
       "      <td>2021-08-16</td>\n",
       "    </tr>\n",
       "    <tr>\n",
       "      <th>11</th>\n",
       "      <td>2330</td>\n",
       "      <td>580.0</td>\n",
       "      <td>578.0</td>\n",
       "      <td>582.0</td>\n",
       "      <td>580.0</td>\n",
       "      <td>2021-08-17</td>\n",
       "    </tr>\n",
       "  </tbody>\n",
       "</table>\n",
       "</div>"
      ],
      "text/plain": [
       "    股票代碼    開盤價    最低價    最高價    收盤價          日期\n",
       "0   2330  583.0  580.0  590.0  590.0  2021-08-02\n",
       "1   2330  594.0  590.0  594.0  594.0  2021-08-03\n",
       "2   2330  598.0  594.0  598.0  596.0  2021-08-04\n",
       "3   2330  598.0  593.0  598.0  596.0  2021-08-05\n",
       "4   2330  596.0  588.0  596.0  591.0  2021-08-06\n",
       "5   2330  590.0  583.0  595.0  595.0  2021-08-09\n",
       "6   2330  596.0  589.0  596.0  591.0  2021-08-10\n",
       "7   2330  590.0  585.0  590.0  590.0  2021-08-11\n",
       "8   2330  586.0  584.0  588.0  586.0  2021-08-12\n",
       "9   2330  585.0  579.0  585.0  581.0  2021-08-13\n",
       "10  2330  582.0  578.0  586.0  584.0  2021-08-16\n",
       "11  2330  580.0  578.0  582.0  580.0  2021-08-17"
      ]
     },
     "execution_count": 19,
     "metadata": {},
     "output_type": "execute_result"
    }
   ],
   "source": [
    "df"
   ]
  },
  {
   "cell_type": "code",
   "execution_count": 21,
   "id": "37598afa-22db-4542-866d-62464a75721f",
   "metadata": {},
   "outputs": [
    {
     "data": {
      "text/plain": [
       "<function Connection.close>"
      ]
     },
     "execution_count": 21,
     "metadata": {},
     "output_type": "execute_result"
    }
   ],
   "source": [
    "conn.close"
   ]
  },
  {
   "cell_type": "code",
   "execution_count": null,
   "id": "b86c6d77-7ce9-4fa5-9b70-205c24bcd662",
   "metadata": {},
   "outputs": [],
   "source": []
  }
 ],
 "metadata": {
  "kernelspec": {
   "display_name": "Python 3",
   "language": "python",
   "name": "python3"
  },
  "language_info": {
   "codemirror_mode": {
    "name": "ipython",
    "version": 3
   },
   "file_extension": ".py",
   "mimetype": "text/x-python",
   "name": "python",
   "nbconvert_exporter": "python",
   "pygments_lexer": "ipython3",
   "version": "3.8.8"
  },
  "toc-autonumbering": false,
  "toc-showmarkdowntxt": true
 },
 "nbformat": 4,
 "nbformat_minor": 5
}
