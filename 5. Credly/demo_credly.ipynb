{
 "cells": [
  {
   "cell_type": "code",
   "execution_count": 22,
   "id": "22023f28-55a2-4322-80bb-fffcbd088ef0",
   "metadata": {},
   "outputs": [],
   "source": [
    "import requests\n",
    "from bs4 import BeautifulSoup\n",
    "\n",
    "url = \"https://www.credly.com/users/hsiangjenli/badges\"\n",
    "r = requests.get(url)\n",
    "soup = BeautifulSoup(r.content, 'lxml')\n",
    "\n",
    "img_urls = soup.find_all('img', class_ = \"cr-standard-grid-item-content__image\")\n",
    "soup.find_all('div', class_ = 'cr-standard-grid-item-content__title')[0].text.replace('\\n', '')\n",
    "\n",
    "templates = '''<img src = \"{img_url}\" width = \"160px\"/>'''\n",
    "create_html = ''\n",
    "\n",
    "for img in img_urls:\n",
    "    create_html += templates.format(img_url = img['src'])"
   ]
  }
 ],
 "metadata": {
  "kernelspec": {
   "display_name": "Python 3",
   "language": "python",
   "name": "python3"
  },
  "language_info": {
   "codemirror_mode": {
    "name": "ipython",
    "version": 3
   },
   "file_extension": ".py",
   "mimetype": "text/x-python",
   "name": "python",
   "nbconvert_exporter": "python",
   "pygments_lexer": "ipython3",
   "version": "3.8.8"
  }
 },
 "nbformat": 4,
 "nbformat_minor": 5
}
