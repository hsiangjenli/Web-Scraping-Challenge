{
 "cells": [
  {
   "cell_type": "markdown",
   "id": "56ccc2fb-a520-4499-a1be-4c20e69315c7",
   "metadata": {},
   "source": [
    "# **Anue**"
   ]
  },
  {
   "cell_type": "markdown",
   "id": "560a54cc-6d26-4e4e-be61-57ac4d9d7e99",
   "metadata": {},
   "source": [
    "## **Category**"
   ]
  },
  {
   "cell_type": "code",
   "execution_count": 11,
   "id": "cd3726f8-c70c-4413-9f7c-10acebe0afd7",
   "metadata": {},
   "outputs": [],
   "source": [
    "from Anue.anue import ANUE_CAT"
   ]
  },
  {
   "cell_type": "code",
   "execution_count": 2,
   "id": "b4ba0240-76c6-4bd6-a1ac-ce421bb0c54a",
   "metadata": {},
   "outputs": [
    {
     "data": {
      "text/plain": [
       "{'即時頭條': 'headline',\n",
       " 'A股港股': 'cn_stock',\n",
       " '外匯': 'forex',\n",
       " '台股': 'tw_stock',\n",
       " '期貨': 'future',\n",
       " '國際股': 'wd_macro'}"
      ]
     },
     "execution_count": 2,
     "metadata": {},
     "output_type": "execute_result"
    }
   ],
   "source": [
    "ANUE_CAT.cat"
   ]
  },
  {
   "cell_type": "markdown",
   "id": "27fcef1f-ea7a-49ec-bdf9-44158c012c3f",
   "metadata": {},
   "source": [
    "## **URL format**"
   ]
  },
  {
   "cell_type": "code",
   "execution_count": 12,
   "id": "04656e79-acee-44b6-aabb-0b5a46c6f42c",
   "metadata": {},
   "outputs": [],
   "source": [
    "from Anue.anue import ANUE_URL"
   ]
  },
  {
   "cell_type": "code",
   "execution_count": 13,
   "id": "30005bb5-d630-42eb-91ff-9d26d5b8963e",
   "metadata": {},
   "outputs": [
    {
     "data": {
      "text/plain": [
       "'https://news.cnyes.com/api/v3/news/category/{cat}?startAt={t1}&endAt={t2}&limit=30&page={page}'"
      ]
     },
     "execution_count": 13,
     "metadata": {},
     "output_type": "execute_result"
    }
   ],
   "source": [
    "ANUE_URL.v1\n",
    "ANUE_URL.v3"
   ]
  },
  {
   "cell_type": "markdown",
   "id": "01af6719-46b4-4d5d-b1fd-e7e878421f67",
   "metadata": {},
   "source": [
    "```python\n",
    "ANUE_URL.v1\n",
    ">>> 'https://api.cnyes.com/media/api/v1/newslist/category/{cat}?startAt={t1}&endAt={t2}&limit=30&page={page}'\n",
    "\n",
    "ANUE_URL.v3\n",
    ">>> 'https://news.cnyes.com/api/v3/news/category/{cat}?startAt={t1}&endAt={t2}&limit=30&page={page}'\n",
    "```\n"
   ]
  },
  {
   "cell_type": "markdown",
   "id": "89041150-3517-4b75-9861-7c4cb915d345",
   "metadata": {},
   "source": [
    "### **timestamp**"
   ]
  },
  {
   "cell_type": "code",
   "execution_count": 14,
   "id": "a37de8ef-e744-462e-8e03-47faf97d5ee9",
   "metadata": {},
   "outputs": [],
   "source": [
    "from Anue.anue import ANUE"
   ]
  },
  {
   "cell_type": "code",
   "execution_count": 15,
   "id": "747eca37-3bc1-4176-86e9-4bb57985f5b6",
   "metadata": {},
   "outputs": [
    {
     "data": {
      "text/plain": [
       "[1629205837, 1629292237]"
      ]
     },
     "execution_count": 15,
     "metadata": {},
     "output_type": "execute_result"
    }
   ],
   "source": [
    "ANUE.period_to_timestamp(1)"
   ]
  },
  {
   "cell_type": "markdown",
   "id": "6d26aa94-c0fb-4dc3-a769-bf4ba8c23e92",
   "metadata": {},
   "source": [
    "## **基本設定**"
   ]
  },
  {
   "cell_type": "code",
   "execution_count": 16,
   "id": "344cb44e-aa60-44af-9268-5a8fcd5edc2a",
   "metadata": {},
   "outputs": [],
   "source": [
    "from Anue.anue import ANUE"
   ]
  },
  {
   "cell_type": "markdown",
   "id": "beaddcba-2de9-4220-a429-54348eb2a42b",
   "metadata": {},
   "source": [
    "```python\n",
    "anue = ANUE(category = 'tw_stock',\n",
    "            period = 2) #最近的2天\n",
    "\n",
    "'''\n",
    "from Anue.anue import ANUE_CAT\n",
    "\n",
    "ANUE_CAT.cat = {'即時頭條': 'headline',\n",
    "                'A股港股': 'cn_stock',\n",
    "                '外匯': 'forex',\n",
    "                '台股': 'tw_stock',\n",
    "                '期貨': 'future',\n",
    "                '國際股': 'wd_macro'}\n",
    "'''\n",
    "```"
   ]
  },
  {
   "cell_type": "code",
   "execution_count": 8,
   "id": "70f22a18-d6ee-463a-a4df-2079d2d455b9",
   "metadata": {},
   "outputs": [],
   "source": [
    "anue = ANUE(category = 'tw_stock', period = 2)"
   ]
  },
  {
   "cell_type": "code",
   "execution_count": 9,
   "id": "7e1518a2-6c52-415e-8b0f-7d5df094f6d3",
   "metadata": {},
   "outputs": [],
   "source": [
    "list_dict_anue = anue.crawler_all()"
   ]
  },
  {
   "cell_type": "code",
   "execution_count": 18,
   "id": "84360535-3086-4954-a67b-3de8b39c1b97",
   "metadata": {},
   "outputs": [
    {
     "data": {
      "text/plain": [
       "list"
      ]
     },
     "execution_count": 18,
     "metadata": {},
     "output_type": "execute_result"
    }
   ],
   "source": [
    "type(list_dict_anue)"
   ]
  },
  {
   "cell_type": "code",
   "execution_count": 19,
   "id": "dae73076-0524-4ec7-8388-c173157cd9b4",
   "metadata": {},
   "outputs": [
    {
     "data": {
      "text/plain": [
       "dict"
      ]
     },
     "execution_count": 19,
     "metadata": {},
     "output_type": "execute_result"
    }
   ],
   "source": [
    "type(list_dict_anue[0])"
   ]
  }
 ],
 "metadata": {
  "kernelspec": {
   "display_name": "Python 3",
   "language": "python",
   "name": "python3"
  },
  "language_info": {
   "codemirror_mode": {
    "name": "ipython",
    "version": 3
   },
   "file_extension": ".py",
   "mimetype": "text/x-python",
   "name": "python",
   "nbconvert_exporter": "python",
   "pygments_lexer": "ipython3",
   "version": "3.8.8"
  },
  "toc-autonumbering": true
 },
 "nbformat": 4,
 "nbformat_minor": 5
}
