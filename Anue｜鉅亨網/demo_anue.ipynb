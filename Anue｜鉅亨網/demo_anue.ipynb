{
 "cells": [
  {
   "cell_type": "markdown",
   "id": "56ccc2fb-a520-4499-a1be-4c20e69315c7",
   "metadata": {},
   "source": [
    "# **Anue**"
   ]
  },
  {
   "cell_type": "markdown",
   "id": "560a54cc-6d26-4e4e-be61-57ac4d9d7e99",
   "metadata": {},
   "source": [
    "## **Category**"
   ]
  },
  {
   "cell_type": "code",
   "execution_count": 9,
   "id": "cd3726f8-c70c-4413-9f7c-10acebe0afd7",
   "metadata": {},
   "outputs": [],
   "source": [
    "from Anue.anue import ANUE_CAT"
   ]
  },
  {
   "cell_type": "code",
   "execution_count": 10,
   "id": "b4ba0240-76c6-4bd6-a1ac-ce421bb0c54a",
   "metadata": {},
   "outputs": [
    {
     "data": {
      "text/plain": [
       "{'即時頭條': 'headline',\n",
       " 'A股港股': 'cn_stock',\n",
       " '外匯': 'forex',\n",
       " '台股': 'tw_stock',\n",
       " '期貨': 'future',\n",
       " '國際股': 'wd_macro'}"
      ]
     },
     "execution_count": 10,
     "metadata": {},
     "output_type": "execute_result"
    }
   ],
   "source": [
    "ANUE_CAT.cat"
   ]
  },
  {
   "cell_type": "markdown",
   "id": "27fcef1f-ea7a-49ec-bdf9-44158c012c3f",
   "metadata": {},
   "source": [
    "## **URL format**"
   ]
  },
  {
   "cell_type": "code",
   "execution_count": 9,
   "id": "04656e79-acee-44b6-aabb-0b5a46c6f42c",
   "metadata": {},
   "outputs": [],
   "source": [
    "from Anue.anue import ANUE_URL"
   ]
  },
  {
   "cell_type": "code",
   "execution_count": 2,
   "id": "30005bb5-d630-42eb-91ff-9d26d5b8963e",
   "metadata": {},
   "outputs": [
    {
     "data": {
      "text/plain": [
       "'https://news.cnyes.com/api/v3/news/category/tw_stock?startAt=1638205906&endAt=1638292306&limit=30&page=1'"
      ]
     },
     "execution_count": 2,
     "metadata": {},
     "output_type": "execute_result"
    }
   ],
   "source": [
    "ANUE_URL.v1\n",
    "ANUE_URL.v3\n",
    "ANUE_URL.demo"
   ]
  },
  {
   "cell_type": "markdown",
   "id": "6d26aa94-c0fb-4dc3-a769-bf4ba8c23e92",
   "metadata": {},
   "source": [
    "## **基本設定**"
   ]
  },
  {
   "cell_type": "markdown",
   "id": "beaddcba-2de9-4220-a429-54348eb2a42b",
   "metadata": {},
   "source": [
    "```python\n",
    "anue = ANUE(category = 'tw_stock',\n",
    "            period = 2) #最近的2天\n",
    "\n",
    "'''\n",
    "from Anue.anue import ANUE_CAT\n",
    "\n",
    "ANUE_CAT.cat = {'即時頭條': 'headline',\n",
    "                'A股港股': 'cn_stock',\n",
    "                '外匯': 'forex',\n",
    "                '台股': 'tw_stock',\n",
    "                '期貨': 'future',\n",
    "                '國際股': 'wd_macro'}\n",
    "'''\n",
    "```"
   ]
  },
  {
   "cell_type": "markdown",
   "id": "57e9d984-7bc3-4f06-9f70-e1c58a2098f5",
   "metadata": {},
   "source": [
    "### `crawler_type='quick'`\n",
    "```python\n",
    "anue.crawler_all(crawler_type='quick') #Deafult\n",
    "```"
   ]
  },
  {
   "cell_type": "code",
   "execution_count": 1,
   "id": "344cb44e-aa60-44af-9268-5a8fcd5edc2a",
   "metadata": {},
   "outputs": [],
   "source": [
    "from Anue.anue import ANUE\n",
    "\n",
    "anue = ANUE(category = 'tw_stock', period = 1)"
   ]
  },
  {
   "cell_type": "code",
   "execution_count": null,
   "id": "e4aa3a33-fc53-4821-917a-3df9612c47cb",
   "metadata": {
    "tags": []
   },
   "outputs": [],
   "source": [
    "for news in anue.crawler_all():\n",
    "    print(news)\n",
    "    print('='*100)"
   ]
  },
  {
   "cell_type": "markdown",
   "id": "3a941608-71b0-4078-9c5a-9d6840c95779",
   "metadata": {},
   "source": [
    "### `crawler_type='complete'`\n",
    "```python\n",
    "anue.crawler_all(crawler_type='complete')\n",
    "```"
   ]
  },
  {
   "cell_type": "code",
   "execution_count": null,
   "id": "7aa66617-e665-4fad-a260-aefd14812a78",
   "metadata": {
    "tags": []
   },
   "outputs": [],
   "source": [
    "for news in anue.crawler_all(crawler_type='complete'):\n",
    "    print(news)\n",
    "    print('='*100)"
   ]
  },
  {
   "cell_type": "markdown",
   "id": "c2470f15-1d17-44b3-98c4-aea55fd1d67a",
   "metadata": {},
   "source": [
    "## **WordCloud --待完成**"
   ]
  },
  {
   "cell_type": "code",
   "execution_count": 4,
   "id": "1041ffb7-cfea-415c-a484-f6ee3367fc44",
   "metadata": {},
   "outputs": [],
   "source": [
    "text = ''\n",
    "for t in anue.crawler_all():\n",
    "    text+=t['text']"
   ]
  },
  {
   "cell_type": "code",
   "execution_count": null,
   "id": "518104af-663b-4a1c-ad40-45d2ec2d36f5",
   "metadata": {
    "tags": []
   },
   "outputs": [],
   "source": [
    "text"
   ]
  },
  {
   "cell_type": "code",
   "execution_count": 1,
   "id": "c80fc51d-00aa-47c6-8665-a0feddbab52e",
   "metadata": {},
   "outputs": [],
   "source": [
    "from Anue.myWordCloud import myWordCloud"
   ]
  },
  {
   "cell_type": "code",
   "execution_count": 2,
   "id": "55a13238-e0f2-4b7c-8d27-d983767dabc2",
   "metadata": {},
   "outputs": [
    {
     "data": {
      "text/plain": [
       "\u001b[1;31mInit signature:\u001b[0m\n",
       "\u001b[0mmyWordCloud\u001b[0m\u001b[1;33m(\u001b[0m\u001b[1;33m\n",
       "\u001b[0m    \u001b[0mdata\u001b[0m\u001b[1;33m=\u001b[0m\u001b[1;32mNone\u001b[0m\u001b[1;33m,\u001b[0m\u001b[1;33m\n",
       "\u001b[0m    \u001b[0mfilename\u001b[0m\u001b[1;33m=\u001b[0m\u001b[1;34m'myWordCloud'\u001b[0m\u001b[1;33m,\u001b[0m\u001b[1;33m\n",
       "\u001b[0m    \u001b[0mmask\u001b[0m\u001b[1;33m=\u001b[0m\u001b[1;34m'rec.png'\u001b[0m\u001b[1;33m,\u001b[0m\u001b[1;33m\n",
       "\u001b[0m    \u001b[0mfont\u001b[0m\u001b[1;33m=\u001b[0m\u001b[1;34m''\u001b[0m\u001b[1;33m,\u001b[0m\u001b[1;33m\n",
       "\u001b[0m    \u001b[0mbackground_color\u001b[0m\u001b[1;33m=\u001b[0m\u001b[1;34m'white'\u001b[0m\u001b[1;33m,\u001b[0m\u001b[1;33m\n",
       "\u001b[0m    \u001b[0mrecolor\u001b[0m\u001b[1;33m=\u001b[0m\u001b[1;32mFalse\u001b[0m\u001b[1;33m,\u001b[0m\u001b[1;33m\n",
       "\u001b[0m\u001b[1;33m)\u001b[0m\u001b[1;33m\u001b[0m\u001b[1;33m\u001b[0m\u001b[0m\n",
       "\u001b[1;31mDocstring:\u001b[0m      <no docstring>\n",
       "\u001b[1;31mInit docstring:\u001b[0m\n",
       "Parameters\n",
       "----------\n",
       "data : string\n",
       "        文章\n",
       "filename : string\n",
       "        輸出時的文字雲的檔案名稱，不須包含副檔名。\n",
       "mask : string\n",
       "        文字雲的形狀。圖片的路徑。\n",
       "font : string\n",
       "        個人化字體設定。字型的路徑。\n",
       "background_color : string\n",
       "        文字雲的背景顏色。\n",
       "        e.g. '#FFFFFF', 'white'\n",
       "recolor : bool\n",
       "        字的顏色是否根據mask重新上色。\n",
       "\u001b[1;31mFile:\u001b[0m           d:\\python\\web-scraping-challenge\\1. anue｜鉅亨網\\anue\\mywordcloud.py\n",
       "\u001b[1;31mType:\u001b[0m           type\n",
       "\u001b[1;31mSubclasses:\u001b[0m     \n"
      ]
     },
     "metadata": {},
     "output_type": "display_data"
    }
   ],
   "source": [
    "?myWordCloud"
   ]
  },
  {
   "cell_type": "code",
   "execution_count": 3,
   "id": "82f29d9f-81e3-4a32-8e11-e9b3a47e2783",
   "metadata": {},
   "outputs": [
    {
     "data": {
      "text/plain": [
       "\u001b[1;31mSignature:\u001b[0m \u001b[0mmyWordCloud\u001b[0m\u001b[1;33m.\u001b[0m\u001b[0mpreprocssing\u001b[0m\u001b[1;33m(\u001b[0m\u001b[0mself\u001b[0m\u001b[1;33m)\u001b[0m\u001b[1;33m\u001b[0m\u001b[1;33m\u001b[0m\u001b[0m\n",
       "\u001b[1;31mDocstring:\u001b[0m\n",
       "# Preprocessing Data\n",
       "\n",
       "## Adding your personal stopwords\n",
       "> 'stopwords.txt'\n",
       "\n",
       "## Adding your personal userdict\n",
       "> 'userdict.txt'\n",
       "\u001b[1;31mFile:\u001b[0m      d:\\python\\web-scraping-challenge\\1. anue｜鉅亨網\\anue\\mywordcloud.py\n",
       "\u001b[1;31mType:\u001b[0m      function\n"
      ]
     },
     "metadata": {},
     "output_type": "display_data"
    }
   ],
   "source": [
    "?myWordCloud.preprocssing"
   ]
  }
 ],
 "metadata": {
  "kernelspec": {
   "display_name": "Python 3",
   "language": "python",
   "name": "python3"
  },
  "language_info": {
   "codemirror_mode": {
    "name": "ipython",
    "version": 3
   },
   "file_extension": ".py",
   "mimetype": "text/x-python",
   "name": "python",
   "nbconvert_exporter": "python",
   "pygments_lexer": "ipython3",
   "version": "3.8.8"
  },
  "toc-autonumbering": true
 },
 "nbformat": 4,
 "nbformat_minor": 5
}
