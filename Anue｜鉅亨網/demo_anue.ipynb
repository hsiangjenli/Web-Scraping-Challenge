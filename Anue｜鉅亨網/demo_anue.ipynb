{
 "cells": [
  {
   "cell_type": "markdown",
   "id": "18aad07a",
   "metadata": {},
   "source": [
    "# **Anue**"
   ]
  },
  {
   "cell_type": "markdown",
   "id": "68e8e6af",
   "metadata": {},
   "source": [
    "## **Category**"
   ]
  },
  {
   "cell_type": "code",
   "execution_count": 9,
   "id": "60394ce5",
   "metadata": {},
   "outputs": [],
   "source": [
    "from Anue.anue import ANUE_CAT"
   ]
  },
  {
   "cell_type": "code",
   "execution_count": 10,
   "id": "05d9e337",
   "metadata": {},
   "outputs": [
    {
     "data": {
      "text/plain": [
       "{'即時頭條': 'headline',\n",
       " 'A股港股': 'cn_stock',\n",
       " '外匯': 'forex',\n",
       " '台股': 'tw_stock',\n",
       " '期貨': 'future',\n",
       " '國際股': 'wd_macro'}"
      ]
     },
     "execution_count": 10,
     "metadata": {},
     "output_type": "execute_result"
    }
   ],
   "source": [
    "ANUE_CAT.cat"
   ]
  },
  {
   "cell_type": "markdown",
   "id": "af2d999a",
   "metadata": {},
   "source": [
    "## **URL format**"
   ]
  },
  {
   "cell_type": "code",
   "execution_count": 9,
   "id": "cc2b8a46",
   "metadata": {},
   "outputs": [],
   "source": [
    "from Anue.anue import ANUE_URL"
   ]
  },
  {
   "cell_type": "code",
   "execution_count": 2,
   "id": "a34111f7",
   "metadata": {},
   "outputs": [
    {
     "data": {
      "text/plain": [
       "'https://news.cnyes.com/api/v3/news/category/tw_stock?startAt=1638205906&endAt=1638292306&limit=30&page=1'"
      ]
     },
     "execution_count": 2,
     "metadata": {},
     "output_type": "execute_result"
    }
   ],
   "source": [
    "ANUE_URL.v1\n",
    "ANUE_URL.v3\n",
    "ANUE_URL.demo"
   ]
  },
  {
   "cell_type": "markdown",
   "id": "f8d5706b",
   "metadata": {},
   "source": [
    "## **基本設定**"
   ]
  },
  {
   "cell_type": "markdown",
   "id": "b35a3de9",
   "metadata": {},
   "source": [
    "```python\n",
    "anue = ANUE(category = 'tw_stock',\n",
    "            period = 2) #最近的2天\n",
    "\n",
    "'''\n",
    "from Anue.anue import ANUE_CAT\n",
    "\n",
    "ANUE_CAT.cat = {'即時頭條': 'headline',\n",
    "                'A股港股': 'cn_stock',\n",
    "                '外匯': 'forex',\n",
    "                '台股': 'tw_stock',\n",
    "                '期貨': 'future',\n",
    "                '國際股': 'wd_macro'}\n",
    "'''\n",
    "```"
   ]
  },
  {
   "cell_type": "markdown",
   "id": "ed747716",
   "metadata": {},
   "source": [
    "### `crawler_type='quick'`\n",
    "```python\n",
    "anue.crawler_all(crawler_type='quick') #Deafult\n",
    "```"
   ]
  },
  {
   "cell_type": "code",
   "execution_count": 1,
   "id": "7c50d870",
   "metadata": {},
   "outputs": [],
   "source": [
    "from Anue.anue import ANUE\n",
    "\n",
    "anue = ANUE(category = 'tw_stock', period = 100)"
   ]
  },
  {
   "cell_type": "code",
   "execution_count": 4,
   "id": "c41c13cb",
   "metadata": {},
   "outputs": [
    {
     "data": {
      "text/plain": [
       "[1629801815, 1638441815]"
      ]
     },
     "execution_count": 4,
     "metadata": {},
     "output_type": "execute_result"
    }
   ],
   "source": [
    "anue.period_to_timestamp(100)"
   ]
  },
  {
   "cell_type": "code",
   "execution_count": null,
   "id": "81db33ce",
   "metadata": {},
   "outputs": [],
   "source": [
    "'https://news.cnyes.com/api/v3/news/category/tw_stock?startAt=1629801815&endAt=1638441815&limit=30&page=1'"
   ]
  },
  {
   "cell_type": "code",
   "execution_count": 2,
   "id": "53505012",
   "metadata": {
    "tags": []
   },
   "outputs": [
    {
     "ename": "KeyError",
     "evalue": "'items'",
     "output_type": "error",
     "traceback": [
      "\u001b[1;31m---------------------------------------------------------------------------\u001b[0m",
      "\u001b[1;31mKeyError\u001b[0m                                  Traceback (most recent call last)",
      "\u001b[1;32m<ipython-input-2-93d7b832e5d3>\u001b[0m in \u001b[0;36m<module>\u001b[1;34m\u001b[0m\n\u001b[1;32m----> 1\u001b[1;33m \u001b[1;32mfor\u001b[0m \u001b[0mnews\u001b[0m \u001b[1;32min\u001b[0m \u001b[0manue\u001b[0m\u001b[1;33m.\u001b[0m\u001b[0mcrawler_all\u001b[0m\u001b[1;33m(\u001b[0m\u001b[1;33m)\u001b[0m\u001b[1;33m:\u001b[0m\u001b[1;33m\u001b[0m\u001b[1;33m\u001b[0m\u001b[0m\n\u001b[0m\u001b[0;32m      2\u001b[0m     \u001b[0mprint\u001b[0m\u001b[1;33m(\u001b[0m\u001b[0mnews\u001b[0m\u001b[1;33m)\u001b[0m\u001b[1;33m\u001b[0m\u001b[1;33m\u001b[0m\u001b[0m\n\u001b[0;32m      3\u001b[0m     \u001b[0mprint\u001b[0m\u001b[1;33m(\u001b[0m\u001b[1;34m'='\u001b[0m\u001b[1;33m*\u001b[0m\u001b[1;36m100\u001b[0m\u001b[1;33m)\u001b[0m\u001b[1;33m\u001b[0m\u001b[1;33m\u001b[0m\u001b[0m\n",
      "\u001b[1;32mD:\\Python\\Web-Scraping-Challenge\\Anue｜鉅亨網\\Anue\\anue.py\u001b[0m in \u001b[0;36mcrawler_all\u001b[1;34m(self, crawler_type)\u001b[0m\n\u001b[0;32m     55\u001b[0m \u001b[1;33m\u001b[0m\u001b[0m\n\u001b[0;32m     56\u001b[0m                 \u001b[0murl\u001b[0m \u001b[1;33m=\u001b[0m \u001b[0mself\u001b[0m\u001b[1;33m.\u001b[0m\u001b[0murl\u001b[0m\u001b[1;33m(\u001b[0m\u001b[0mpage\u001b[0m \u001b[1;33m=\u001b[0m \u001b[1;36m1\u001b[0m\u001b[1;33m)\u001b[0m\u001b[1;33m\u001b[0m\u001b[1;33m\u001b[0m\u001b[0m\n\u001b[1;32m---> 57\u001b[1;33m                 \u001b[0mpages\u001b[0m \u001b[1;33m=\u001b[0m \u001b[0mself\u001b[0m\u001b[1;33m.\u001b[0m\u001b[0mcrawler\u001b[0m\u001b[1;33m(\u001b[0m\u001b[0murl\u001b[0m\u001b[1;33m)\u001b[0m\u001b[1;33m[\u001b[0m\u001b[1;34m'items'\u001b[0m\u001b[1;33m]\u001b[0m\u001b[1;33m[\u001b[0m\u001b[1;34m'last_page'\u001b[0m\u001b[1;33m]\u001b[0m \u001b[1;33m+\u001b[0m \u001b[1;36m1\u001b[0m\u001b[1;33m\u001b[0m\u001b[1;33m\u001b[0m\u001b[0m\n\u001b[0m\u001b[0;32m     58\u001b[0m \u001b[1;33m\u001b[0m\u001b[0m\n\u001b[0;32m     59\u001b[0m                 \u001b[1;32mfor\u001b[0m \u001b[0mpage\u001b[0m \u001b[1;32min\u001b[0m \u001b[0mrange\u001b[0m\u001b[1;33m(\u001b[0m\u001b[1;36m1\u001b[0m\u001b[1;33m,\u001b[0m \u001b[0mpages\u001b[0m\u001b[1;33m)\u001b[0m\u001b[1;33m:\u001b[0m\u001b[1;33m\u001b[0m\u001b[1;33m\u001b[0m\u001b[0m\n",
      "\u001b[1;31mKeyError\u001b[0m: 'items'"
     ]
    }
   ],
   "source": [
    "for news in anue.crawler_all():\n",
    "    print(news)\n",
    "    print('='*100)"
   ]
  },
  {
   "cell_type": "markdown",
   "id": "11bb41ea",
   "metadata": {},
   "source": [
    "### `crawler_type='complete'`\n",
    "```python\n",
    "anue.crawler_all(crawler_type='complete')\n",
    "```"
   ]
  },
  {
   "cell_type": "code",
   "execution_count": null,
   "id": "9bab38b2",
   "metadata": {
    "tags": []
   },
   "outputs": [],
   "source": [
    "for news in anue.crawler_all(crawler_type='complete'):\n",
    "    print(news)\n",
    "    print('='*100)"
   ]
  },
  {
   "cell_type": "markdown",
   "id": "28a483a9",
   "metadata": {},
   "source": [
    "## **WordCloud --待完成**"
   ]
  },
  {
   "cell_type": "code",
   "execution_count": 4,
   "id": "8a21718f",
   "metadata": {},
   "outputs": [],
   "source": [
    "text = ''\n",
    "for t in anue.crawler_all():\n",
    "    text+=t['text']"
   ]
  },
  {
   "cell_type": "code",
   "execution_count": null,
   "id": "9730ac6b",
   "metadata": {
    "tags": []
   },
   "outputs": [],
   "source": [
    "text"
   ]
  },
  {
   "cell_type": "code",
   "execution_count": 1,
   "id": "776fc16c",
   "metadata": {},
   "outputs": [],
   "source": [
    "from Anue.myWordCloud import myWordCloud"
   ]
  },
  {
   "cell_type": "code",
   "execution_count": 2,
   "id": "64f00288",
   "metadata": {},
   "outputs": [
    {
     "data": {
      "text/plain": [
       "\u001b[1;31mInit signature:\u001b[0m\n",
       "\u001b[0mmyWordCloud\u001b[0m\u001b[1;33m(\u001b[0m\u001b[1;33m\n",
       "\u001b[0m    \u001b[0mdata\u001b[0m\u001b[1;33m=\u001b[0m\u001b[1;32mNone\u001b[0m\u001b[1;33m,\u001b[0m\u001b[1;33m\n",
       "\u001b[0m    \u001b[0mfilename\u001b[0m\u001b[1;33m=\u001b[0m\u001b[1;34m'myWordCloud'\u001b[0m\u001b[1;33m,\u001b[0m\u001b[1;33m\n",
       "\u001b[0m    \u001b[0mmask\u001b[0m\u001b[1;33m=\u001b[0m\u001b[1;34m'rec.png'\u001b[0m\u001b[1;33m,\u001b[0m\u001b[1;33m\n",
       "\u001b[0m    \u001b[0mfont\u001b[0m\u001b[1;33m=\u001b[0m\u001b[1;34m''\u001b[0m\u001b[1;33m,\u001b[0m\u001b[1;33m\n",
       "\u001b[0m    \u001b[0mbackground_color\u001b[0m\u001b[1;33m=\u001b[0m\u001b[1;34m'white'\u001b[0m\u001b[1;33m,\u001b[0m\u001b[1;33m\n",
       "\u001b[0m    \u001b[0mrecolor\u001b[0m\u001b[1;33m=\u001b[0m\u001b[1;32mFalse\u001b[0m\u001b[1;33m,\u001b[0m\u001b[1;33m\n",
       "\u001b[0m\u001b[1;33m)\u001b[0m\u001b[1;33m\u001b[0m\u001b[1;33m\u001b[0m\u001b[0m\n",
       "\u001b[1;31mDocstring:\u001b[0m      <no docstring>\n",
       "\u001b[1;31mInit docstring:\u001b[0m\n",
       "Parameters\n",
       "----------\n",
       "data : string\n",
       "        文章\n",
       "filename : string\n",
       "        輸出時的文字雲的檔案名稱，不須包含副檔名。\n",
       "mask : string\n",
       "        文字雲的形狀。圖片的路徑。\n",
       "font : string\n",
       "        個人化字體設定。字型的路徑。\n",
       "background_color : string\n",
       "        文字雲的背景顏色。\n",
       "        e.g. '#FFFFFF', 'white'\n",
       "recolor : bool\n",
       "        字的顏色是否根據mask重新上色。\n",
       "\u001b[1;31mFile:\u001b[0m           d:\\python\\web-scraping-challenge\\1. anue｜鉅亨網\\anue\\mywordcloud.py\n",
       "\u001b[1;31mType:\u001b[0m           type\n",
       "\u001b[1;31mSubclasses:\u001b[0m     \n"
      ]
     },
     "metadata": {},
     "output_type": "display_data"
    }
   ],
   "source": [
    "?myWordCloud"
   ]
  },
  {
   "cell_type": "code",
   "execution_count": 3,
   "id": "421155ae",
   "metadata": {},
   "outputs": [
    {
     "data": {
      "text/plain": [
       "\u001b[1;31mSignature:\u001b[0m \u001b[0mmyWordCloud\u001b[0m\u001b[1;33m.\u001b[0m\u001b[0mpreprocssing\u001b[0m\u001b[1;33m(\u001b[0m\u001b[0mself\u001b[0m\u001b[1;33m)\u001b[0m\u001b[1;33m\u001b[0m\u001b[1;33m\u001b[0m\u001b[0m\n",
       "\u001b[1;31mDocstring:\u001b[0m\n",
       "# Preprocessing Data\n",
       "\n",
       "## Adding your personal stopwords\n",
       "> 'stopwords.txt'\n",
       "\n",
       "## Adding your personal userdict\n",
       "> 'userdict.txt'\n",
       "\u001b[1;31mFile:\u001b[0m      d:\\python\\web-scraping-challenge\\1. anue｜鉅亨網\\anue\\mywordcloud.py\n",
       "\u001b[1;31mType:\u001b[0m      function\n"
      ]
     },
     "metadata": {},
     "output_type": "display_data"
    }
   ],
   "source": [
    "?myWordCloud.preprocssing"
   ]
  }
 ],
 "metadata": {
  "kernelspec": {
   "display_name": "Python 3 (Spyder)",
   "language": "python3",
   "name": "python3"
  },
  "language_info": {
   "codemirror_mode": {
    "name": "ipython",
    "version": 3
   },
   "file_extension": ".py",
   "mimetype": "text/x-python",
   "name": "python",
   "nbconvert_exporter": "python",
   "pygments_lexer": "ipython3",
   "version": "3.8.8"
  },
  "toc-autonumbering": true
 },
 "nbformat": 4,
 "nbformat_minor": 5
}
