{
 "cells": [
  {
   "cell_type": "code",
   "execution_count": 1,
   "id": "243513f4-8a96-4e33-aef1-e35f6ef63ff2",
   "metadata": {},
   "outputs": [],
   "source": [
    "from udemy import UDEMY"
   ]
  },
  {
   "cell_type": "code",
   "execution_count": 8,
   "id": "eaea2f5c-e803-41df-8aca-58467098cd9b",
   "metadata": {},
   "outputs": [],
   "source": [
    "udemy = UDEMY(category = ['development', 'IT & Software'],\n",
    "             limit_page = 15)"
   ]
  },
  {
   "cell_type": "code",
   "execution_count": 9,
   "id": "79002b85-6a0d-4655-ac5c-f8196cda8ddc",
   "metadata": {},
   "outputs": [
    {
     "data": {
      "text/plain": [
       "['development', 'IT & Software']"
      ]
     },
     "execution_count": 9,
     "metadata": {},
     "output_type": "execute_result"
    }
   ],
   "source": [
    "udemy.category"
   ]
  },
  {
   "cell_type": "code",
   "execution_count": null,
   "id": "2e85cc20-0ec1-4ae1-b29c-a43d2f65908a",
   "metadata": {},
   "outputs": [],
   "source": [
    "udemy.crawler()"
   ]
  }
 ],
 "metadata": {
  "kernelspec": {
   "display_name": "Python 3",
   "language": "python",
   "name": "python3"
  },
  "language_info": {
   "codemirror_mode": {
    "name": "ipython",
    "version": 3
   },
   "file_extension": ".py",
   "mimetype": "text/x-python",
   "name": "python",
   "nbconvert_exporter": "python",
   "pygments_lexer": "ipython3",
   "version": "3.8.8"
  }
 },
 "nbformat": 4,
 "nbformat_minor": 5
}
